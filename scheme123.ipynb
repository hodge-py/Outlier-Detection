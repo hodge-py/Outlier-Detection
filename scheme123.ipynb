{
 "cells": [
  {
   "cell_type": "code",
   "id": "initial_id",
   "metadata": {
    "collapsed": true,
    "ExecuteTime": {
     "end_time": "2024-09-25T23:55:35.132447Z",
     "start_time": "2024-09-25T23:55:34.909555Z"
    }
   },
   "source": [
    "from operator import index\n",
    "\n",
    "import numpy as np\n",
    "from sklearn.neighbors import NearestNeighbors\n",
    "import matplotlib.pyplot as plt\n",
    "from sklearn.datasets import make_blobs\n",
    "import pandas as pd\n",
    "from sklearn.preprocessing import LabelEncoder\n",
    "from statsmodels.stats.stattools import medcouple\n",
    "from scipy.stats import skew\n",
    "import seaborn as sns\n",
    "import math\n",
    "\n",
    "plt.rcParams['figure.figsize'] = [15, 7]"
   ],
   "outputs": [],
   "execution_count": 126
  },
  {
   "metadata": {
    "ExecuteTime": {
     "end_time": "2024-09-25T23:14:01.949407Z",
     "start_time": "2024-09-25T23:14:01.926364Z"
    }
   },
   "cell_type": "code",
   "source": [
    "df = pd.read_csv(\"./outlierDatasets/synthetic.csv\")\n",
    "df.head()"
   ],
   "id": "f65d3d366fa02909",
   "outputs": [
    {
     "data": {
      "text/plain": [
       "          0         1         2         3         4         5         6  \\\n",
       "0  0.435518  0.038492  0.551343  0.140049  0.899545  0.588684  0.299706   \n",
       "1  0.633197  0.034490  0.319406  0.879141  0.163079  0.184356  0.160583   \n",
       "2  0.421558  0.299824  0.602220  0.521654  0.954621  0.547448  0.882898   \n",
       "3  0.817491  0.647528  0.046214  0.487270  0.053872  0.817499  0.390589   \n",
       "4  0.291513  0.474018  0.065267  0.410573  0.903696  0.466520  0.196878   \n",
       "\n",
       "          7         8         9 outlier  \n",
       "0  0.245713  0.367375  0.452970      no  \n",
       "1  0.104973  0.294980  0.429709      no  \n",
       "2  0.586641  0.840204  0.212529      no  \n",
       "3  0.394750  0.736854  0.442689     yes  \n",
       "4  0.165370  0.297764  0.467911      no  "
      ],
      "text/html": [
       "<div>\n",
       "<style scoped>\n",
       "    .dataframe tbody tr th:only-of-type {\n",
       "        vertical-align: middle;\n",
       "    }\n",
       "\n",
       "    .dataframe tbody tr th {\n",
       "        vertical-align: top;\n",
       "    }\n",
       "\n",
       "    .dataframe thead th {\n",
       "        text-align: right;\n",
       "    }\n",
       "</style>\n",
       "<table border=\"1\" class=\"dataframe\">\n",
       "  <thead>\n",
       "    <tr style=\"text-align: right;\">\n",
       "      <th></th>\n",
       "      <th>0</th>\n",
       "      <th>1</th>\n",
       "      <th>2</th>\n",
       "      <th>3</th>\n",
       "      <th>4</th>\n",
       "      <th>5</th>\n",
       "      <th>6</th>\n",
       "      <th>7</th>\n",
       "      <th>8</th>\n",
       "      <th>9</th>\n",
       "      <th>outlier</th>\n",
       "    </tr>\n",
       "  </thead>\n",
       "  <tbody>\n",
       "    <tr>\n",
       "      <th>0</th>\n",
       "      <td>0.435518</td>\n",
       "      <td>0.038492</td>\n",
       "      <td>0.551343</td>\n",
       "      <td>0.140049</td>\n",
       "      <td>0.899545</td>\n",
       "      <td>0.588684</td>\n",
       "      <td>0.299706</td>\n",
       "      <td>0.245713</td>\n",
       "      <td>0.367375</td>\n",
       "      <td>0.452970</td>\n",
       "      <td>no</td>\n",
       "    </tr>\n",
       "    <tr>\n",
       "      <th>1</th>\n",
       "      <td>0.633197</td>\n",
       "      <td>0.034490</td>\n",
       "      <td>0.319406</td>\n",
       "      <td>0.879141</td>\n",
       "      <td>0.163079</td>\n",
       "      <td>0.184356</td>\n",
       "      <td>0.160583</td>\n",
       "      <td>0.104973</td>\n",
       "      <td>0.294980</td>\n",
       "      <td>0.429709</td>\n",
       "      <td>no</td>\n",
       "    </tr>\n",
       "    <tr>\n",
       "      <th>2</th>\n",
       "      <td>0.421558</td>\n",
       "      <td>0.299824</td>\n",
       "      <td>0.602220</td>\n",
       "      <td>0.521654</td>\n",
       "      <td>0.954621</td>\n",
       "      <td>0.547448</td>\n",
       "      <td>0.882898</td>\n",
       "      <td>0.586641</td>\n",
       "      <td>0.840204</td>\n",
       "      <td>0.212529</td>\n",
       "      <td>no</td>\n",
       "    </tr>\n",
       "    <tr>\n",
       "      <th>3</th>\n",
       "      <td>0.817491</td>\n",
       "      <td>0.647528</td>\n",
       "      <td>0.046214</td>\n",
       "      <td>0.487270</td>\n",
       "      <td>0.053872</td>\n",
       "      <td>0.817499</td>\n",
       "      <td>0.390589</td>\n",
       "      <td>0.394750</td>\n",
       "      <td>0.736854</td>\n",
       "      <td>0.442689</td>\n",
       "      <td>yes</td>\n",
       "    </tr>\n",
       "    <tr>\n",
       "      <th>4</th>\n",
       "      <td>0.291513</td>\n",
       "      <td>0.474018</td>\n",
       "      <td>0.065267</td>\n",
       "      <td>0.410573</td>\n",
       "      <td>0.903696</td>\n",
       "      <td>0.466520</td>\n",
       "      <td>0.196878</td>\n",
       "      <td>0.165370</td>\n",
       "      <td>0.297764</td>\n",
       "      <td>0.467911</td>\n",
       "      <td>no</td>\n",
       "    </tr>\n",
       "  </tbody>\n",
       "</table>\n",
       "</div>"
      ]
     },
     "execution_count": 93,
     "metadata": {},
     "output_type": "execute_result"
    }
   ],
   "execution_count": 93
  },
  {
   "metadata": {
    "ExecuteTime": {
     "end_time": "2024-09-25T23:14:01.995738Z",
     "start_time": "2024-09-25T23:14:01.991999Z"
    }
   },
   "cell_type": "code",
   "source": [
    "X = df.iloc[:, 4:6].values\n",
    "copy_X = df.iloc[:, 2:4]\n",
    "y = df.iloc[:, -1:].values"
   ],
   "id": "a5a7c423763ac72",
   "outputs": [],
   "execution_count": 94
  },
  {
   "metadata": {
    "ExecuteTime": {
     "end_time": "2024-09-25T23:14:02.051870Z",
     "start_time": "2024-09-25T23:14:02.047134Z"
    }
   },
   "cell_type": "code",
   "source": [
    "le = LabelEncoder()\n",
    "y = le.fit_transform(y)\n",
    "print(y)"
   ],
   "id": "de2eac4a662669a0",
   "outputs": [
    {
     "name": "stdout",
     "output_type": "stream",
     "text": [
      "[0 0 0 1 0 0 0 0 0 0 1 0 0 0 0 1 0 0 0 0 0 0 0 1 0 0 1 0 1 0 0 0 0 0 0 0 0\n",
      " 0 0 0 0 0 0 0 1 0 0 0 1 0 0 0 0 0 0 0 0 0 0 0 0 0 0 0 0 1 0 0 0 1 0 0 1 0\n",
      " 0 0 0 0 0 0 0 0 1 0 0 0 0 0 0 0 0 0 0 0 0 0 0 0 0 0 0 0 0 1 0 0 0 0 0 0 0\n",
      " 0 0 0 0 0 0 0 0 0 1 0 0 0 0 0 0 1 0 0 0 0 0 1 0 0 0 0 0 0 0 1 0 0 0 0 0 0\n",
      " 0 0 0 0 0 0 0 0 0 1 0 0 0 0 0 0 0 0 0 0 0 0 0 0 0 0 0 0 0 0 0 0 0 0 0 0 0\n",
      " 0 0 0 0 0 0 0 0 0 0 0 0 0 0 0 0 0 0 0 1 0 0 0 0 0 0 0 0 0 0 0 0 0 0 0 0 0\n",
      " 0 0 0 0 0 0 1 0 0 0 0 0 0 0 0 0 1 0 0 0 0 0 1 0 0 0 0 0 0 0 0 0 0 0 0 0 0\n",
      " 0 0 0 0 0 1 0 0 0 0 0 1 0 0 0 0 0 0 0 0 1 0 0 1 0 0 0 0 0 0 1 0 0 0 0 0 0\n",
      " 0 0 0 0 0 0 0 0 0 0 0 0 0 0 0 0 1 0 0 1 1 0 0 0 0 0 0 0 0 0 0 0 0 0 0 0 0\n",
      " 0 0 0 0 0 0 1 0 0 0 0 0 1 0 0 0 0 0 1 0 0 0 0 0 0 0 0 0 0 0 0 0 0 0 0 1 0\n",
      " 0 0 0 0 0 0 0 1 0 0 0 0 0 0 1 0 0 0 0 0 0 0 0 0 0 0 0 0 0 0 0 0 0 0 0 0 0\n",
      " 0 1 0 0 0 0 0 0 0 1 0 0 0 0 0 0 0 0 0 1 0 0 0 0 0 0 1 0 0 0 0 0 0 0 0 0 0\n",
      " 0 1 0 0 0 0 0 0 0 1 0 0 0 0 1 0 0 0 0 0 0 0 0 0 0 0 0 0 0 0 0 0 0 0 0 0 0\n",
      " 1 0 0 0 0 0 0 0 0 0 0 0 0 0 0 0 0 0 1 0 0 0 0 0 0 0 0 0 0 1 0 0 0 0 0 0 0\n",
      " 0 0 0 0 0 0 1 0 0 0 0 0 0 0 0 0 1 0 1 0 1 0 0 0 0 0 0 1 0 0 0 0 1 0 0 0 0\n",
      " 0 0 0 0 0 0 0 0 0 0 0 0 0 0 0 0 0 1 0 0 0 0 0 1 0 0 1 0 0 0 0 0 0 1 0 0 1\n",
      " 0 0 0 0 0 0 0 0 0 0 1 0 0 0 0 0 0 1 0 0 1 0 0 0 0 0 0 0 0 0 0 1 0 0 0 0 0\n",
      " 0 0 0 0 1 0 0 0 0 0 0 0 0 0 0 0 0 0 0 1 0 0 0 0 0 0 0 0 0 0 0 1 0 0 0 0 1\n",
      " 0 0 0 0 0 0 0 0 0 0 0 0 0 1 0 0 0 0 0 0 0 1 0 0 0 0 0 0 0 0 0 0 0 0 0 0 0\n",
      " 0 0 0 0 0 0 0 0 1 0 1 0 0 1 1 0 0 0 0 0 0 0 0 0 0 0 0 0 0 0 0 1 0 1 0 0 0\n",
      " 0 0 1 0 0 0 1 0 0 0 0 0 0 0 1 0 0 0 0 0 0 0 0 0 0 0 1 0 0 0 0 0 0 0 0 0 0\n",
      " 0 0 0 0 0 1 0 0 0 0 0 0 0 1 0 0 0 0 0 0 0 0 0 0 0 0 0 0 0 1 0 0 0 0 0 0 0\n",
      " 0 0 0 0 0 0 0 0 0 0 0 0 0 0 0 0 0 1 0 1 0 0 1 0 0 0 0 0 0 0 1 0 0 0 0 0 0\n",
      " 0 0 0 0 0 0 0 0 1 0 0 0 1 0 0 0 0 0 0 0 0 0 0 0 0 0 0 0 0 0 0 1 0 0 0 0 0\n",
      " 0 0 0 0 0 0 0 0 0 0 0 1 1 1 0 1 0 0 0 0 0 0 0 1 1 0 0 0 0 0 0 0 0 1 0 0 0\n",
      " 0 0 0 0 0 0 1 0 0 0 0 0 0 0 0 0 0 0 0 0 0 0 0 0 0 0 0 0 0 0 0 0 0 0 0 0 0\n",
      " 0 0 0 0 0 0 0 0 0 0 0 0 0 0 0 1 1 1 0 0 0 0 0 0 0 1 0 0 0 0 0 0 0 0 0 0 1\n",
      " 0]\n"
     ]
    },
    {
     "name": "stderr",
     "output_type": "stream",
     "text": [
      "C:\\Users\\khodg\\AppData\\Local\\Programs\\Python\\Python311\\Lib\\site-packages\\sklearn\\preprocessing\\_label.py:114: DataConversionWarning: A column-vector y was passed when a 1d array was expected. Please change the shape of y to (n_samples, ), for example using ravel().\n",
      "  y = column_or_1d(y, warn=True)\n"
     ]
    }
   ],
   "execution_count": 95
  },
  {
   "metadata": {
    "ExecuteTime": {
     "end_time": "2024-09-25T23:14:02.286704Z",
     "start_time": "2024-09-25T23:14:02.277890Z"
    }
   },
   "cell_type": "code",
   "source": [
    "def main(X, y, n):\n",
    "    nn = NearestNeighbors(n_neighbors=n)\n",
    "    nn.fit(X, y)\n",
    "    dist, knn = nn.kneighbors(X)  # returns N index neighbors including self\n",
    "    return knn, dist\n",
    "\n",
    "\n",
    "knn, distReturn = main(X, y, 10)"
   ],
   "id": "615fbdd95f65a54a",
   "outputs": [],
   "execution_count": 96
  },
  {
   "metadata": {
    "ExecuteTime": {
     "end_time": "2024-09-25T23:14:02.359955Z",
     "start_time": "2024-09-25T23:14:02.335465Z"
    }
   },
   "cell_type": "code",
   "source": [
    "def generateArr(newDist, median='median'):\n",
    "    arr = []\n",
    "    for x in newDist:  # finds the distance away from that point (index 0)\n",
    "        if median == 'median':\n",
    "            arr += [np.median(x)]\n",
    "        elif median == 'sum': # min + median + max\n",
    "            arr += [x[1]+np.max(x)+np.median(x)]\n",
    "        elif median == 'max':\n",
    "            arr += [np.max(x)]\n",
    "        elif median == 'minMax':\n",
    "            arr += [np.max(x)+x[1]]\n",
    "        elif median == 'medMax':\n",
    "            arr += [np.median(x)+np.max(x)]\n",
    "        elif median == 'min':\n",
    "            arr += [x[1]]\n",
    "            \n",
    "\n",
    "    return arr\n",
    "\n",
    "distReturn = np.array(distReturn)\n",
    "arr = generateArr(distReturn, median=\"medMax\")"
   ],
   "id": "e85c0cdb602043f8",
   "outputs": [],
   "execution_count": 97
  },
  {
   "metadata": {},
   "cell_type": "markdown",
   "source": "# Scheme 1",
   "id": "e9c072ee86fbf5f"
  },
  {
   "metadata": {
    "ExecuteTime": {
     "end_time": "2024-09-25T23:14:02.381255Z",
     "start_time": "2024-09-25T23:14:02.377905Z"
    }
   },
   "cell_type": "code",
   "source": [
    "# Standard deviation sigma = B * Q3dk\n",
    "\n",
    "q3 = np.quantile(distReturn, 0.75)"
   ],
   "id": "682c86a98efa2ab5",
   "outputs": [],
   "execution_count": 98
  },
  {
   "metadata": {
    "ExecuteTime": {
     "end_time": "2024-09-25T23:51:04.607373Z",
     "start_time": "2024-09-25T23:51:04.599751Z"
    }
   },
   "cell_type": "code",
   "source": [
    "def joinProb(x):\n",
    "    hold = []\n",
    "    mean1 = np.mean(x[:,0])\n",
    "    mean2 = np.mean(x[:,1])\n",
    "    print(mean1, mean2)\n",
    "    sigma = q3 * 10\n",
    "    for y in range(x.shape[0]):\n",
    "        power = -( ( (x[:,0][y]-mean1) ** 2 + (x[:,1][y]-mean2) ** 2 ) / (2*(sigma**2 )))\n",
    "        output = (1 / ((2*math.pi)*(pow(sigma,2)))) * (math.e ** power)\n",
    "        hold += [output]\n",
    "        \n",
    "    \n",
    "    return hold\n",
    "    \n",
    "returnArr = joinProb(X)\n",
    "returnArr = np.array(returnArr)\n",
    "outliers = returnArr[returnArr < (max(returnArr)*.05)]\n",
    "returnArr = list(returnArr)\n",
    "print(outliers)\n",
    "print(returnArr.index(outliers[7]))\n"
   ],
   "id": "c2baad5a271f67d",
   "outputs": [
    {
     "name": "stdout",
     "output_type": "stream",
     "text": [
      "0.586120019863969 0.5146356240978537\n",
      "[0.01739852 0.01316737 0.00378202 0.01746743 0.01824743 0.00399415\n",
      " 0.01764892 0.01195033 0.00452696 0.01035005 0.01551754 0.02313208\n",
      " 0.01691321 0.02141355 0.00853914 0.01395753 0.00463444 0.00534858\n",
      " 0.00273125 0.02256136 0.0188351  0.00592292 0.01711439 0.0067288\n",
      " 0.01539428 0.01171035 0.01706328 0.01811177 0.00822246 0.01522376\n",
      " 0.0067813  0.01288644 0.0155856  0.01635616 0.020949   0.01071581\n",
      " 0.01518952 0.00339691 0.00869251 0.00260034 0.02015645 0.00250278\n",
      " 0.0122106  0.0105109  0.00546361 0.0028665  0.0208711  0.01366867\n",
      " 0.01396106 0.00712727 0.02222486 0.00850129 0.00760248 0.00618641\n",
      " 0.00685918 0.01355287 0.00859389 0.01368792 0.01579336 0.00902545\n",
      " 0.01513621 0.00609432 0.00891353 0.01761716 0.01337338 0.01023879\n",
      " 0.00423119 0.02262547 0.02335205 0.00496232 0.01837953 0.00591803\n",
      " 0.01833498 0.00413107 0.0038581  0.01276028 0.01901058 0.01329422\n",
      " 0.01094977 0.00781118 0.00399593 0.02004607 0.0134912  0.00729232\n",
      " 0.00581523 0.01064928 0.02142047 0.00932264 0.01862397 0.01538311\n",
      " 0.0211982  0.00712145 0.00971431 0.00375773 0.0100767  0.02359133\n",
      " 0.01935767 0.01375978 0.01625048 0.01256451 0.00998491 0.02316894\n",
      " 0.01277459 0.02285632 0.02065083 0.00640899 0.00671767 0.01428111\n",
      " 0.01811897 0.00451977 0.00378961 0.01750051 0.01749576 0.00897923\n",
      " 0.00326273 0.01001456 0.01522624 0.00911662 0.01695923 0.0065965\n",
      " 0.01143251 0.01181612 0.01471592 0.00682839 0.01474987 0.00814428\n",
      " 0.01214434 0.01293252 0.01147067 0.00347842 0.01375192 0.0084952\n",
      " 0.00705751 0.00640269 0.01121413 0.02296032 0.00899645 0.01627836\n",
      " 0.00863912 0.01759858 0.01459417 0.0094021  0.00626451 0.00703302\n",
      " 0.00499167 0.00578071 0.00613193 0.00534963 0.01120386 0.00722587\n",
      " 0.01991275 0.00866745 0.01494329 0.01716004 0.01452893 0.00869096\n",
      " 0.00850842 0.00705295 0.0057655  0.01959854 0.0048161  0.00895218\n",
      " 0.02205658 0.01403462 0.01917365 0.0124015  0.01598401 0.01750485\n",
      " 0.00583934 0.02004995 0.01352992 0.00965206 0.00730936 0.01216497\n",
      " 0.0230042  0.0180216  0.00384521 0.01411048 0.01549103 0.01263203\n",
      " 0.02185303 0.00901593 0.00748573 0.01217983 0.0048374  0.02095014\n",
      " 0.00981537 0.00614037 0.00536264 0.01945865 0.00421174 0.02254045\n",
      " 0.01319839 0.00849633 0.01014515 0.00858777 0.00551563 0.01087194\n",
      " 0.02209414 0.01120825 0.02177024 0.00544967 0.01665086]\n",
      "29\n"
     ]
    }
   ],
   "execution_count": 125
  },
  {
   "metadata": {
    "ExecuteTime": {
     "end_time": "2024-09-25T23:56:47.741905Z",
     "start_time": "2024-09-25T23:56:47.469588Z"
    }
   },
   "cell_type": "code",
   "source": "sns.jointplot(x=df.iloc[:,4],y=df.iloc[:,5],data=df)",
   "id": "fc2f1a84e7b7a",
   "outputs": [
    {
     "data": {
      "text/plain": [
       "<seaborn.axisgrid.JointGrid at 0x1e5fa4e6dd0>"
      ]
     },
     "execution_count": 128,
     "metadata": {},
     "output_type": "execute_result"
    },
    {
     "data": {
      "text/plain": [
       "<Figure size 600x600 with 3 Axes>"
      ],
      "image/png": "[encoded data removed]"
     },
     "metadata": {},
     "output_type": "display_data"
    }
   ],
   "execution_count": 128
  },
  {
   "metadata": {
    "ExecuteTime": {
     "end_time": "2024-09-25T23:39:23.077575Z",
     "start_time": "2024-09-25T23:39:23.075694Z"
    }
   },
   "cell_type": "code",
   "source": "",
   "id": "cb71568a50600419",
   "outputs": [],
   "execution_count": null
  },
  {
   "metadata": {},
   "cell_type": "code",
   "outputs": [],
   "execution_count": null,
   "source": "",
   "id": "ab9dfbfe774a620e"
  }
 ],
 "metadata": {
  "kernelspec": {
   "display_name": "Python 3",
   "language": "python",
   "name": "python3"
  },
  "language_info": {
   "codemirror_mode": {
    "name": "ipython",
    "version": 2
   },
   "file_extension": ".py",
   "mimetype": "text/x-python",
   "name": "python",
   "nbconvert_exporter": "python",
   "pygments_lexer": "ipython2",
   "version": "2.7.6"
  }
 },
 "nbformat": 4,
 "nbformat_minor": 5
}
