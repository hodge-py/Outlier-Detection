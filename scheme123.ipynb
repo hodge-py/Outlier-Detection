{
 "cells": [
  {
   "cell_type": "code",
   "id": "initial_id",
   "metadata": {
    "collapsed": true,
    "ExecuteTime": {
     "end_time": "2024-09-25T23:14:01.910354Z",
     "start_time": "2024-09-25T23:14:01.906371Z"
    }
   },
   "source": [
    "from operator import index\n",
    "\n",
    "import numpy as np\n",
    "from sklearn.neighbors import NearestNeighbors\n",
    "import matplotlib.pyplot as plt\n",
    "from sklearn.datasets import make_blobs\n",
    "import pandas as pd\n",
    "from sklearn.preprocessing import LabelEncoder\n",
    "from statsmodels.stats.stattools import medcouple\n",
    "from scipy.stats import skew\n",
    "import math\n",
    "\n",
    "plt.rcParams['figure.figsize'] = [15, 7]"
   ],
   "outputs": [],
   "execution_count": 92
  },
  {
   "metadata": {
    "ExecuteTime": {
     "end_time": "2024-09-25T23:14:01.949407Z",
     "start_time": "2024-09-25T23:14:01.926364Z"
    }
   },
   "cell_type": "code",
   "source": [
    "df = pd.read_csv(\"./outlierDatasets/synthetic.csv\")\n",
    "df.head()"
   ],
   "id": "f65d3d366fa02909",
   "outputs": [
    {
     "data": {
      "text/plain": [
       "          0         1         2         3         4         5         6  \\\n",
       "0  0.435518  0.038492  0.551343  0.140049  0.899545  0.588684  0.299706   \n",
       "1  0.633197  0.034490  0.319406  0.879141  0.163079  0.184356  0.160583   \n",
       "2  0.421558  0.299824  0.602220  0.521654  0.954621  0.547448  0.882898   \n",
       "3  0.817491  0.647528  0.046214  0.487270  0.053872  0.817499  0.390589   \n",
       "4  0.291513  0.474018  0.065267  0.410573  0.903696  0.466520  0.196878   \n",
       "\n",
       "          7         8         9 outlier  \n",
       "0  0.245713  0.367375  0.452970      no  \n",
       "1  0.104973  0.294980  0.429709      no  \n",
       "2  0.586641  0.840204  0.212529      no  \n",
       "3  0.394750  0.736854  0.442689     yes  \n",
       "4  0.165370  0.297764  0.467911      no  "
      ],
      "text/html": [
       "<div>\n",
       "<style scoped>\n",
       "    .dataframe tbody tr th:only-of-type {\n",
       "        vertical-align: middle;\n",
       "    }\n",
       "\n",
       "    .dataframe tbody tr th {\n",
       "        vertical-align: top;\n",
       "    }\n",
       "\n",
       "    .dataframe thead th {\n",
       "        text-align: right;\n",
       "    }\n",
       "</style>\n",
       "<table border=\"1\" class=\"dataframe\">\n",
       "  <thead>\n",
       "    <tr style=\"text-align: right;\">\n",
       "      <th></th>\n",
       "      <th>0</th>\n",
       "      <th>1</th>\n",
       "      <th>2</th>\n",
       "      <th>3</th>\n",
       "      <th>4</th>\n",
       "      <th>5</th>\n",
       "      <th>6</th>\n",
       "      <th>7</th>\n",
       "      <th>8</th>\n",
       "      <th>9</th>\n",
       "      <th>outlier</th>\n",
       "    </tr>\n",
       "  </thead>\n",
       "  <tbody>\n",
       "    <tr>\n",
       "      <th>0</th>\n",
       "      <td>0.435518</td>\n",
       "      <td>0.038492</td>\n",
       "      <td>0.551343</td>\n",
       "      <td>0.140049</td>\n",
       "      <td>0.899545</td>\n",
       "      <td>0.588684</td>\n",
       "      <td>0.299706</td>\n",
       "      <td>0.245713</td>\n",
       "      <td>0.367375</td>\n",
       "      <td>0.452970</td>\n",
       "      <td>no</td>\n",
       "    </tr>\n",
       "    <tr>\n",
       "      <th>1</th>\n",
       "      <td>0.633197</td>\n",
       "      <td>0.034490</td>\n",
       "      <td>0.319406</td>\n",
       "      <td>0.879141</td>\n",
       "      <td>0.163079</td>\n",
       "      <td>0.184356</td>\n",
       "      <td>0.160583</td>\n",
       "      <td>0.104973</td>\n",
       "      <td>0.294980</td>\n",
       "      <td>0.429709</td>\n",
       "      <td>no</td>\n",
       "    </tr>\n",
       "    <tr>\n",
       "      <th>2</th>\n",
       "      <td>0.421558</td>\n",
       "      <td>0.299824</td>\n",
       "      <td>0.602220</td>\n",
       "      <td>0.521654</td>\n",
       "      <td>0.954621</td>\n",
       "      <td>0.547448</td>\n",
       "      <td>0.882898</td>\n",
       "      <td>0.586641</td>\n",
       "      <td>0.840204</td>\n",
       "      <td>0.212529</td>\n",
       "      <td>no</td>\n",
       "    </tr>\n",
       "    <tr>\n",
       "      <th>3</th>\n",
       "      <td>0.817491</td>\n",
       "      <td>0.647528</td>\n",
       "      <td>0.046214</td>\n",
       "      <td>0.487270</td>\n",
       "      <td>0.053872</td>\n",
       "      <td>0.817499</td>\n",
       "      <td>0.390589</td>\n",
       "      <td>0.394750</td>\n",
       "      <td>0.736854</td>\n",
       "      <td>0.442689</td>\n",
       "      <td>yes</td>\n",
       "    </tr>\n",
       "    <tr>\n",
       "      <th>4</th>\n",
       "      <td>0.291513</td>\n",
       "      <td>0.474018</td>\n",
       "      <td>0.065267</td>\n",
       "      <td>0.410573</td>\n",
       "      <td>0.903696</td>\n",
       "      <td>0.466520</td>\n",
       "      <td>0.196878</td>\n",
       "      <td>0.165370</td>\n",
       "      <td>0.297764</td>\n",
       "      <td>0.467911</td>\n",
       "      <td>no</td>\n",
       "    </tr>\n",
       "  </tbody>\n",
       "</table>\n",
       "</div>"
      ]
     },
     "execution_count": 93,
     "metadata": {},
     "output_type": "execute_result"
    }
   ],
   "execution_count": 93
  },
  {
   "metadata": {
    "ExecuteTime": {
     "end_time": "2024-09-25T23:14:01.995738Z",
     "start_time": "2024-09-25T23:14:01.991999Z"
    }
   },
   "cell_type": "code",
   "source": [
    "X = df.iloc[:, 4:6].values\n",
    "copy_X = df.iloc[:, 2:4]\n",
    "y = df.iloc[:, -1:].values"
   ],
   "id": "a5a7c423763ac72",
   "outputs": [],
   "execution_count": 94
  },
  {
   "metadata": {
    "ExecuteTime": {
     "end_time": "2024-09-25T23:14:02.051870Z",
     "start_time": "2024-09-25T23:14:02.047134Z"
    }
   },
   "cell_type": "code",
   "source": [
    "le = LabelEncoder()\n",
    "y = le.fit_transform(y)\n",
    "print(y)"
   ],
   "id": "de2eac4a662669a0",
   "outputs": [
    {
     "name": "stdout",
     "output_type": "stream",
     "text": [
      "[0 0 0 1 0 0 0 0 0 0 1 0 0 0 0 1 0 0 0 0 0 0 0 1 0 0 1 0 1 0 0 0 0 0 0 0 0\n",
      " 0 0 0 0 0 0 0 1 0 0 0 1 0 0 0 0 0 0 0 0 0 0 0 0 0 0 0 0 1 0 0 0 1 0 0 1 0\n",
      " 0 0 0 0 0 0 0 0 1 0 0 0 0 0 0 0 0 0 0 0 0 0 0 0 0 0 0 0 0 1 0 0 0 0 0 0 0\n",
      " 0 0 0 0 0 0 0 0 0 1 0 0 0 0 0 0 1 0 0 0 0 0 1 0 0 0 0 0 0 0 1 0 0 0 0 0 0\n",
      " 0 0 0 0 0 0 0 0 0 1 0 0 0 0 0 0 0 0 0 0 0 0 0 0 0 0 0 0 0 0 0 0 0 0 0 0 0\n",
      " 0 0 0 0 0 0 0 0 0 0 0 0 0 0 0 0 0 0 0 1 0 0 0 0 0 0 0 0 0 0 0 0 0 0 0 0 0\n",
      " 0 0 0 0 0 0 1 0 0 0 0 0 0 0 0 0 1 0 0 0 0 0 1 0 0 0 0 0 0 0 0 0 0 0 0 0 0\n",
      " 0 0 0 0 0 1 0 0 0 0 0 1 0 0 0 0 0 0 0 0 1 0 0 1 0 0 0 0 0 0 1 0 0 0 0 0 0\n",
      " 0 0 0 0 0 0 0 0 0 0 0 0 0 0 0 0 1 0 0 1 1 0 0 0 0 0 0 0 0 0 0 0 0 0 0 0 0\n",
      " 0 0 0 0 0 0 1 0 0 0 0 0 1 0 0 0 0 0 1 0 0 0 0 0 0 0 0 0 0 0 0 0 0 0 0 1 0\n",
      " 0 0 0 0 0 0 0 1 0 0 0 0 0 0 1 0 0 0 0 0 0 0 0 0 0 0 0 0 0 0 0 0 0 0 0 0 0\n",
      " 0 1 0 0 0 0 0 0 0 1 0 0 0 0 0 0 0 0 0 1 0 0 0 0 0 0 1 0 0 0 0 0 0 0 0 0 0\n",
      " 0 1 0 0 0 0 0 0 0 1 0 0 0 0 1 0 0 0 0 0 0 0 0 0 0 0 0 0 0 0 0 0 0 0 0 0 0\n",
      " 1 0 0 0 0 0 0 0 0 0 0 0 0 0 0 0 0 0 1 0 0 0 0 0 0 0 0 0 0 1 0 0 0 0 0 0 0\n",
      " 0 0 0 0 0 0 1 0 0 0 0 0 0 0 0 0 1 0 1 0 1 0 0 0 0 0 0 1 0 0 0 0 1 0 0 0 0\n",
      " 0 0 0 0 0 0 0 0 0 0 0 0 0 0 0 0 0 1 0 0 0 0 0 1 0 0 1 0 0 0 0 0 0 1 0 0 1\n",
      " 0 0 0 0 0 0 0 0 0 0 1 0 0 0 0 0 0 1 0 0 1 0 0 0 0 0 0 0 0 0 0 1 0 0 0 0 0\n",
      " 0 0 0 0 1 0 0 0 0 0 0 0 0 0 0 0 0 0 0 1 0 0 0 0 0 0 0 0 0 0 0 1 0 0 0 0 1\n",
      " 0 0 0 0 0 0 0 0 0 0 0 0 0 1 0 0 0 0 0 0 0 1 0 0 0 0 0 0 0 0 0 0 0 0 0 0 0\n",
      " 0 0 0 0 0 0 0 0 1 0 1 0 0 1 1 0 0 0 0 0 0 0 0 0 0 0 0 0 0 0 0 1 0 1 0 0 0\n",
      " 0 0 1 0 0 0 1 0 0 0 0 0 0 0 1 0 0 0 0 0 0 0 0 0 0 0 1 0 0 0 0 0 0 0 0 0 0\n",
      " 0 0 0 0 0 1 0 0 0 0 0 0 0 1 0 0 0 0 0 0 0 0 0 0 0 0 0 0 0 1 0 0 0 0 0 0 0\n",
      " 0 0 0 0 0 0 0 0 0 0 0 0 0 0 0 0 0 1 0 1 0 0 1 0 0 0 0 0 0 0 1 0 0 0 0 0 0\n",
      " 0 0 0 0 0 0 0 0 1 0 0 0 1 0 0 0 0 0 0 0 0 0 0 0 0 0 0 0 0 0 0 1 0 0 0 0 0\n",
      " 0 0 0 0 0 0 0 0 0 0 0 1 1 1 0 1 0 0 0 0 0 0 0 1 1 0 0 0 0 0 0 0 0 1 0 0 0\n",
      " 0 0 0 0 0 0 1 0 0 0 0 0 0 0 0 0 0 0 0 0 0 0 0 0 0 0 0 0 0 0 0 0 0 0 0 0 0\n",
      " 0 0 0 0 0 0 0 0 0 0 0 0 0 0 0 1 1 1 0 0 0 0 0 0 0 1 0 0 0 0 0 0 0 0 0 0 1\n",
      " 0]\n"
     ]
    },
    {
     "name": "stderr",
     "output_type": "stream",
     "text": [
      "C:\\Users\\khodg\\AppData\\Local\\Programs\\Python\\Python311\\Lib\\site-packages\\sklearn\\preprocessing\\_label.py:114: DataConversionWarning: A column-vector y was passed when a 1d array was expected. Please change the shape of y to (n_samples, ), for example using ravel().\n",
      "  y = column_or_1d(y, warn=True)\n"
     ]
    }
   ],
   "execution_count": 95
  },
  {
   "metadata": {
    "ExecuteTime": {
     "end_time": "2024-09-25T23:14:02.286704Z",
     "start_time": "2024-09-25T23:14:02.277890Z"
    }
   },
   "cell_type": "code",
   "source": [
    "def main(X, y, n):\n",
    "    nn = NearestNeighbors(n_neighbors=n)\n",
    "    nn.fit(X, y)\n",
    "    dist, knn = nn.kneighbors(X)  # returns N index neighbors including self\n",
    "    return knn, dist\n",
    "\n",
    "\n",
    "knn, distReturn = main(X, y, 10)"
   ],
   "id": "615fbdd95f65a54a",
   "outputs": [],
   "execution_count": 96
  },
  {
   "metadata": {
    "ExecuteTime": {
     "end_time": "2024-09-25T23:14:02.359955Z",
     "start_time": "2024-09-25T23:14:02.335465Z"
    }
   },
   "cell_type": "code",
   "source": [
    "def generateArr(newDist, median='median'):\n",
    "    arr = []\n",
    "    for x in newDist:  # finds the distance away from that point (index 0)\n",
    "        if median == 'median':\n",
    "            arr += [np.median(x)]\n",
    "        elif median == 'sum': # min + median + max\n",
    "            arr += [x[1]+np.max(x)+np.median(x)]\n",
    "        elif median == 'max':\n",
    "            arr += [np.max(x)]\n",
    "        elif median == 'minMax':\n",
    "            arr += [np.max(x)+x[1]]\n",
    "        elif median == 'medMax':\n",
    "            arr += [np.median(x)+np.max(x)]\n",
    "        elif median == 'min':\n",
    "            arr += [x[1]]\n",
    "            \n",
    "\n",
    "    return arr\n",
    "\n",
    "distReturn = np.array(distReturn)\n",
    "arr = generateArr(distReturn, median=\"medMax\")"
   ],
   "id": "e85c0cdb602043f8",
   "outputs": [],
   "execution_count": 97
  },
  {
   "metadata": {},
   "cell_type": "markdown",
   "source": "# Scheme 1",
   "id": "e9c072ee86fbf5f"
  },
  {
   "metadata": {
    "ExecuteTime": {
     "end_time": "2024-09-25T23:14:02.381255Z",
     "start_time": "2024-09-25T23:14:02.377905Z"
    }
   },
   "cell_type": "code",
   "source": [
    "# Standard deviation sigma = B * Q3dk\n",
    "\n",
    "q3 = np.quantile(distReturn, 0.75)"
   ],
   "id": "682c86a98efa2ab5",
   "outputs": [],
   "execution_count": 98
  },
  {
   "metadata": {
    "ExecuteTime": {
     "end_time": "2024-09-25T23:14:02.409776Z",
     "start_time": "2024-09-25T23:14:02.402157Z"
    }
   },
   "cell_type": "code",
   "source": [
    "def joinProb(x):\n",
    "    hold = []\n",
    "    mean1 = np.mean(x[:,0])\n",
    "    mean2 = np.mean(x[:,1])\n",
    "    print(mean1, mean2)\n",
    "    sigma = q3 * 11\n",
    "    for y in range(x.shape[0]):\n",
    "        power = -( ( (x[:,0][y]-mean1) ** 2 + (x[:,1][y]-mean2) ** 2 ) / ((2*sigma)**2) )\n",
    "        output = (1 / (2*math.pi*sigma)) * (math.e ** power)\n",
    "        hold += [output]\n",
    "        \n",
    "    \n",
    "    return hold\n",
    "    \n",
    "returnArr = joinProb(X)\n",
    "returnArr = np.array(returnArr)\n",
    "outliers = returnArr[returnArr < (max(returnArr)*.05)]\n",
    "returnArr = list(returnArr)\n",
    "print(returnArr.index(outliers[2]))\n",
    "print(outliers)"
   ],
   "id": "c2baad5a271f67d",
   "outputs": [
    {
     "name": "stdout",
     "output_type": "stream",
     "text": [
      "0.586120019863969 0.5146356240978537\n",
      "191\n",
      "[0.03622372 0.03549592 0.03493942 0.03695447 0.03898541]\n"
     ]
    }
   ],
   "execution_count": 99
  },
  {
   "metadata": {
    "ExecuteTime": {
     "end_time": "2024-09-25T23:14:02.444541Z",
     "start_time": "2024-09-25T23:14:02.440134Z"
    }
   },
   "cell_type": "code",
   "source": "y[191]",
   "id": "fc2f1a84e7b7a",
   "outputs": [
    {
     "data": {
      "text/plain": [
       "0"
      ]
     },
     "execution_count": 100,
     "metadata": {},
     "output_type": "execute_result"
    }
   ],
   "execution_count": 100
  },
  {
   "metadata": {
    "ExecuteTime": {
     "end_time": "2024-09-25T23:14:02.468281Z",
     "start_time": "2024-09-25T23:14:02.465513Z"
    }
   },
   "cell_type": "code",
   "source": "",
   "id": "cb71568a50600419",
   "outputs": [],
   "execution_count": null
  }
 ],
 "metadata": {
  "kernelspec": {
   "display_name": "Python 3",
   "language": "python",
   "name": "python3"
  },
  "language_info": {
   "codemirror_mode": {
    "name": "ipython",
    "version": 2
   },
   "file_extension": ".py",
   "mimetype": "text/x-python",
   "name": "python",
   "nbconvert_exporter": "python",
   "pygments_lexer": "ipython2",
   "version": "2.7.6"
  }
 },
 "nbformat": 4,
 "nbformat_minor": 5
}
