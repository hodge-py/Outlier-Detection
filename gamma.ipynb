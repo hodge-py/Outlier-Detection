{
 "cells": [
  {
   "cell_type": "code",
   "id": "initial_id",
   "metadata": {
    "collapsed": true,
    "ExecuteTime": {
     "end_time": "2024-10-07T03:23:54.215683Z",
     "start_time": "2024-10-07T03:23:53.925193Z"
    }
   },
   "source": [
    "from operator import index\n",
    "\n",
    "import numpy as np\n",
    "from sklearn.neighbors import NearestNeighbors\n",
    "import matplotlib.pyplot as plt\n",
    "from sklearn.datasets import make_blobs\n",
    "import pandas as pd\n",
    "from sklearn.preprocessing import LabelEncoder\n",
    "from statsmodels.stats.stattools import medcouple\n",
    "from scipy.stats import skew\n",
    "from scipy.stats import gamma\n",
    "\n",
    "plt.rcParams['figure.figsize'] = [15, 7]"
   ],
   "outputs": [],
   "execution_count": 1
  },
  {
   "metadata": {
    "ExecuteTime": {
     "end_time": "2024-10-07T03:23:54.244634Z",
     "start_time": "2024-10-07T03:23:54.226695Z"
    }
   },
   "cell_type": "code",
   "source": [
    "df = pd.read_csv(\"./outlierDatasets/synthetic.csv\")\n",
    "df.head()"
   ],
   "id": "3597577df169c09a",
   "outputs": [
    {
     "data": {
      "text/plain": [
       "          0         1         2         3         4         5         6  \\\n",
       "0  0.435518  0.038492  0.551343  0.140049  0.899545  0.588684  0.299706   \n",
       "1  0.633197  0.034490  0.319406  0.879141  0.163079  0.184356  0.160583   \n",
       "2  0.421558  0.299824  0.602220  0.521654  0.954621  0.547448  0.882898   \n",
       "3  0.817491  0.647528  0.046214  0.487270  0.053872  0.817499  0.390589   \n",
       "4  0.291513  0.474018  0.065267  0.410573  0.903696  0.466520  0.196878   \n",
       "\n",
       "          7         8         9 outlier  \n",
       "0  0.245713  0.367375  0.452970      no  \n",
       "1  0.104973  0.294980  0.429709      no  \n",
       "2  0.586641  0.840204  0.212529      no  \n",
       "3  0.394750  0.736854  0.442689     yes  \n",
       "4  0.165370  0.297764  0.467911      no  "
      ],
      "text/html": [
       "<div>\n",
       "<style scoped>\n",
       "    .dataframe tbody tr th:only-of-type {\n",
       "        vertical-align: middle;\n",
       "    }\n",
       "\n",
       "    .dataframe tbody tr th {\n",
       "        vertical-align: top;\n",
       "    }\n",
       "\n",
       "    .dataframe thead th {\n",
       "        text-align: right;\n",
       "    }\n",
       "</style>\n",
       "<table border=\"1\" class=\"dataframe\">\n",
       "  <thead>\n",
       "    <tr style=\"text-align: right;\">\n",
       "      <th></th>\n",
       "      <th>0</th>\n",
       "      <th>1</th>\n",
       "      <th>2</th>\n",
       "      <th>3</th>\n",
       "      <th>4</th>\n",
       "      <th>5</th>\n",
       "      <th>6</th>\n",
       "      <th>7</th>\n",
       "      <th>8</th>\n",
       "      <th>9</th>\n",
       "      <th>outlier</th>\n",
       "    </tr>\n",
       "  </thead>\n",
       "  <tbody>\n",
       "    <tr>\n",
       "      <th>0</th>\n",
       "      <td>0.435518</td>\n",
       "      <td>0.038492</td>\n",
       "      <td>0.551343</td>\n",
       "      <td>0.140049</td>\n",
       "      <td>0.899545</td>\n",
       "      <td>0.588684</td>\n",
       "      <td>0.299706</td>\n",
       "      <td>0.245713</td>\n",
       "      <td>0.367375</td>\n",
       "      <td>0.452970</td>\n",
       "      <td>no</td>\n",
       "    </tr>\n",
       "    <tr>\n",
       "      <th>1</th>\n",
       "      <td>0.633197</td>\n",
       "      <td>0.034490</td>\n",
       "      <td>0.319406</td>\n",
       "      <td>0.879141</td>\n",
       "      <td>0.163079</td>\n",
       "      <td>0.184356</td>\n",
       "      <td>0.160583</td>\n",
       "      <td>0.104973</td>\n",
       "      <td>0.294980</td>\n",
       "      <td>0.429709</td>\n",
       "      <td>no</td>\n",
       "    </tr>\n",
       "    <tr>\n",
       "      <th>2</th>\n",
       "      <td>0.421558</td>\n",
       "      <td>0.299824</td>\n",
       "      <td>0.602220</td>\n",
       "      <td>0.521654</td>\n",
       "      <td>0.954621</td>\n",
       "      <td>0.547448</td>\n",
       "      <td>0.882898</td>\n",
       "      <td>0.586641</td>\n",
       "      <td>0.840204</td>\n",
       "      <td>0.212529</td>\n",
       "      <td>no</td>\n",
       "    </tr>\n",
       "    <tr>\n",
       "      <th>3</th>\n",
       "      <td>0.817491</td>\n",
       "      <td>0.647528</td>\n",
       "      <td>0.046214</td>\n",
       "      <td>0.487270</td>\n",
       "      <td>0.053872</td>\n",
       "      <td>0.817499</td>\n",
       "      <td>0.390589</td>\n",
       "      <td>0.394750</td>\n",
       "      <td>0.736854</td>\n",
       "      <td>0.442689</td>\n",
       "      <td>yes</td>\n",
       "    </tr>\n",
       "    <tr>\n",
       "      <th>4</th>\n",
       "      <td>0.291513</td>\n",
       "      <td>0.474018</td>\n",
       "      <td>0.065267</td>\n",
       "      <td>0.410573</td>\n",
       "      <td>0.903696</td>\n",
       "      <td>0.466520</td>\n",
       "      <td>0.196878</td>\n",
       "      <td>0.165370</td>\n",
       "      <td>0.297764</td>\n",
       "      <td>0.467911</td>\n",
       "      <td>no</td>\n",
       "    </tr>\n",
       "  </tbody>\n",
       "</table>\n",
       "</div>"
      ]
     },
     "execution_count": 2,
     "metadata": {},
     "output_type": "execute_result"
    }
   ],
   "execution_count": 2
  },
  {
   "metadata": {
    "ExecuteTime": {
     "end_time": "2024-10-07T03:23:54.532384Z",
     "start_time": "2024-10-07T03:23:54.527798Z"
    }
   },
   "cell_type": "code",
   "source": [
    "X = df.iloc[:, 4:6].values\n",
    "copy_X = df.iloc[:, 2:4]\n",
    "y = df.iloc[:, -1:].values"
   ],
   "id": "39846121f4071a6d",
   "outputs": [],
   "execution_count": 3
  },
  {
   "metadata": {
    "ExecuteTime": {
     "end_time": "2024-10-07T03:23:54.599960Z",
     "start_time": "2024-10-07T03:23:54.594564Z"
    }
   },
   "cell_type": "code",
   "source": [
    "le = LabelEncoder()\n",
    "y = le.fit_transform(y)"
   ],
   "id": "7385a99b64987bd1",
   "outputs": [
    {
     "name": "stderr",
     "output_type": "stream",
     "text": [
      "C:\\Users\\khodg\\AppData\\Local\\Programs\\Python\\Python311\\Lib\\site-packages\\sklearn\\preprocessing\\_label.py:114: DataConversionWarning: A column-vector y was passed when a 1d array was expected. Please change the shape of y to (n_samples, ), for example using ravel().\n",
      "  y = column_or_1d(y, warn=True)\n"
     ]
    }
   ],
   "execution_count": 4
  },
  {
   "metadata": {
    "ExecuteTime": {
     "end_time": "2024-10-07T03:23:54.686050Z",
     "start_time": "2024-10-07T03:23:54.678969Z"
    }
   },
   "cell_type": "code",
   "source": [
    "def main(X,y,n):\n",
    "    nn = NearestNeighbors(n_neighbors=n)\n",
    "    nn.fit(X, y)\n",
    "    dist, knn = nn.kneighbors(X)  # returns N index neighbors including self\n",
    "    return knn, dist\n",
    "\n",
    "knn, distReturn = main(X,y,7)\n",
    "testDis = distReturn.reshape(1,-1)"
   ],
   "id": "6540befb733bcb35",
   "outputs": [],
   "execution_count": 5
  },
  {
   "metadata": {
    "ExecuteTime": {
     "end_time": "2024-10-07T03:23:54.711622Z",
     "start_time": "2024-10-07T03:23:54.702701Z"
    }
   },
   "cell_type": "code",
   "source": [
    "def generateArr(newDist, median='median'):\n",
    "    arr = []\n",
    "    for x in newDist:  # finds the distance away from that point (index 0)\n",
    "        if median == 'median':\n",
    "            arr += [np.median(x)]\n",
    "        elif median == 'sum': # min + median + max\n",
    "            arr += [x[1]+np.max(x)+np.median(x)]\n",
    "        elif median == 'max':\n",
    "            arr += [np.max(x)]\n",
    "        elif median == 'minMax':\n",
    "            arr += [np.max(x)+x[1]]\n",
    "        elif median == 'medMax':\n",
    "            arr += [np.median(x)+np.max(x)]\n",
    "        elif median == 'min':\n",
    "            arr += [x[1]]\n",
    "            \n",
    "\n",
    "    return arr\n",
    "\n",
    "distReturn = np.array(distReturn)\n",
    "arr = generateArr(distReturn, median=\"max\")"
   ],
   "id": "c442fa4e973143",
   "outputs": [],
   "execution_count": 6
  },
  {
   "metadata": {
    "ExecuteTime": {
     "end_time": "2024-10-07T03:23:54.781754Z",
     "start_time": "2024-10-07T03:23:54.729790Z"
    }
   },
   "cell_type": "code",
   "source": [
    "#gamma\n",
    "newArr = arr / max(arr)\n",
    "fit_alpha, fit_loc, fit_beta = gamma.fit(newArr)\n",
    "print(newArr)"
   ],
   "id": "6f46bd549f375d1",
   "outputs": [
    {
     "name": "stdout",
     "output_type": "stream",
     "text": [
      "[0.07801605 0.08543594 0.14947426 0.48784123 0.10148319 0.09360622\n",
      " 0.03824795 0.06111477 0.05948827 0.06597191 0.50828628 0.04287382\n",
      " 0.04380757 0.04151185 0.09459604 0.04621025 0.04189074 0.04023532\n",
      " 0.08703828 0.09227695 0.14730295 0.04005921 0.03111403 0.42759386\n",
      " 0.04371997 0.07494183 0.60903116 0.03508301 0.89809044 0.0515753\n",
      " 0.07008229 0.07573659 0.05961169 0.05771192 0.04376736 0.03552779\n",
      " 0.03680959 0.06938894 0.06238682 0.06064688 0.12051658 0.04196309\n",
      " 0.05253897 0.07337722 0.77218756 0.06657816 0.06328713 0.08798687\n",
      " 0.38161369 0.03610242 0.06745395 0.04500326 0.04321254 0.04711182\n",
      " 0.04755269 0.06584556 0.06856395 0.03238107 0.06053621 0.05391411\n",
      " 0.05088852 0.06596701 0.04304913 0.0351513  0.03875995 0.33755227\n",
      " 0.06641668 0.14455358 0.05792783 0.10405127 0.06284511 0.06331221\n",
      " 0.0940848  0.04738757 0.11382226 0.02710708 0.0348068  0.06299481\n",
      " 0.05219823 0.04551206 0.0351513  0.04841662 0.38932268 0.09978623\n",
      " 0.04871353 0.06965028 0.15143055 0.12800664 0.08728265 0.04436446\n",
      " 0.09112172 0.04965227 0.16167468 0.16368063 0.0821828  0.13635352\n",
      " 0.05630281 0.08942926 0.0974431  0.06045222 0.0484204  0.03659954\n",
      " 0.05515515 0.39698722 0.07157704 0.14706574 0.03977973 0.18787578\n",
      " 0.09273865 0.0362643  0.06614946 0.08245814 0.049519   0.0290617\n",
      " 0.03641651 0.0476303  0.03358791 0.06258394 0.0354682  0.06736759\n",
      " 0.68246155 0.02227492 0.05452848 0.06663414 0.07306039 0.04949242\n",
      " 0.06011125 0.39024293 0.17349429 0.1610864  0.04092534 0.05751883\n",
      " 0.12496908 0.03878796 0.04301112 0.04095096 0.15231059 0.0631949\n",
      " 0.09443223 0.06712728 0.04122406 0.37522076 0.05335257 0.077868\n",
      " 0.0569882  0.05669544 0.03634154 0.08950096 0.06090431 0.03060815\n",
      " 0.03967335 0.04300452 0.02794741 0.06927095 0.04377758 0.04771038\n",
      " 0.04387872 0.19247992 0.07805638 0.0365056  0.0392882  0.09963791\n",
      " 0.02922663 0.03803467 0.04647786 0.03800611 0.04480364 0.06596267\n",
      " 0.09433596 0.05281579 0.04331359 0.06753414 0.11953475 0.04549907\n",
      " 0.04457632 0.09897944 0.04421575 0.07113264 0.07727804 0.03902482\n",
      " 0.10501824 0.12556072 0.03596349 0.05282381 0.07427419 0.07251996\n",
      " 0.08475112 0.0398728  0.0548604  0.04597755 0.05243195 0.09138425\n",
      " 0.0359382  0.06974333 0.16343029 0.03367092 0.07783117 0.04972253\n",
      " 0.03703335 0.05379778 0.04587432 0.04515072 0.06874506 0.0406415\n",
      " 0.96446047 0.06589533 0.09699459 0.06370533 0.05961835 0.05846477\n",
      " 0.03868244 0.04299328 0.03091209 0.07970568 0.08155897 0.03822146\n",
      " 0.05868658 0.09653869 0.04319401 0.04350237 0.06487923 0.04045309\n",
      " 0.04884848 0.04035762 0.04547861 0.04695034 0.1129473  0.07912233\n",
      " 0.55810517 0.05949988 0.05895703 0.07461531 0.09513936 0.07306077\n",
      " 0.06589533 0.04421937 0.03735231 0.1410705  0.11261621 0.0417145\n",
      " 0.06155726 0.02804759 0.04383561 0.05445663 0.93194166 0.04701826\n",
      " 0.04994665 0.12460543 0.04777213 0.0488458  0.04531967 0.07130686\n",
      " 0.05382783 0.02899347 0.04941236 0.08106709 0.15190614 0.0864338\n",
      " 0.03588816 0.05748113 0.06284511 0.07107053 0.0398437  0.05469931\n",
      " 0.12371468 0.03426411 0.08244725 0.04452019 0.05265544 0.03827192\n",
      " 0.54980701 0.03564489 0.04550665 0.02699655 0.03890109 0.05421277\n",
      " 0.05740522 0.08107197 0.14135833 0.48795029 0.0357686  0.22071952\n",
      " 0.62842235 0.08672932 0.04301252 0.06210043 0.03535993 0.07392051\n",
      " 0.05630362 0.62842235 0.06086202 0.0660467  0.04824254 0.03834637\n",
      " 0.09364394 0.0373194  0.03791807 0.03658396 0.0457841  0.04364503\n",
      " 0.0706404  0.05865145 0.09071378 0.06367158 0.03949757 0.1140058\n",
      " 0.05934293 0.03661809 0.09376365 0.0315171  0.09296504 0.05288234\n",
      " 0.59543832 0.05298652 0.23143159 0.47693755 0.16892282 0.09426121\n",
      " 0.06663414 0.0476303  0.04817762 0.04917203 0.05087944 0.03910724\n",
      " 0.02849422 0.06128685 0.06753414 0.03426411 0.06070472 0.06577764\n",
      " 0.04592382 0.04704683 0.05169004 0.07952795 0.07116867 0.05738115\n",
      " 0.0353814  0.06500729 0.08477374 0.79507351 0.08350946 0.04755269\n",
      " 0.03890199 0.0385544  0.09853449 0.13588172 0.04442917 0.0547022\n",
      " 0.10988891 0.04592382 0.15940902 0.78328262 0.08271825 0.03569716\n",
      " 0.04471381 0.06577764 0.06508439 0.04224725 0.04573424 0.08295375\n",
      " 0.06299481 0.06278141 0.14305491 0.04845357 0.05818327 0.05438671\n",
      " 0.1483888  0.08910145 0.46990815 0.04914205 0.23055605 0.03857608\n",
      " 0.0575451  0.03847249 0.06521082 0.0572429  0.03392193 0.46434952\n",
      " 0.05428206 0.0903315  0.04089559 0.09112172 0.1002084  0.03774334\n",
      " 0.32244145 0.06263257 0.14451825 0.04010901 0.04970655 0.0399571\n",
      " 0.04031099 0.05657293 0.04894437 0.07491169 0.09760227 0.05045632\n",
      " 0.10303023 0.06027085 0.0394573  0.04074533 0.03835778 0.04983752\n",
      " 0.10576571 0.0821137  0.07003678 0.04739567 0.04114329 0.03038007\n",
      " 0.49299675 0.09667033 0.03588816 0.05058526 0.04800388 0.06120137\n",
      " 0.04035762 0.03785453 0.47145343 0.05411149 0.06050152 0.05491441\n",
      " 0.04447896 0.19110602 0.06683885 0.11694271 0.04104862 0.05575425\n",
      " 0.49950603 0.04616634 0.05910083 0.03824795 0.07144733 0.04945687\n",
      " 0.03279407 0.49605721 0.10227638 0.03094584 0.0985434  0.07027359\n",
      " 0.13862268 0.06070895 0.04890686 0.08104431 0.09278925 0.05390844\n",
      " 0.05178641 0.31735561 0.03837446 0.03769068 0.06412306 0.04531188\n",
      " 0.05087836 0.05601406 0.05013018 0.4188637  0.03825589 0.05525683\n",
      " 0.05811227 0.05421277 0.03559556 0.05307061 0.04075454 0.05748426\n",
      " 0.08205349 0.06657655 0.04361981 0.0445981  0.13954941 0.10203429\n",
      " 0.04300452 0.02464937 0.0344098  0.05345465 0.04048225 0.04095759\n",
      " 0.17952157 0.04520608 0.09537904 0.04288651 0.05067323 0.03293433\n",
      " 0.06736759 0.320014   0.05409534 0.04700414 0.06557977 0.06539283\n",
      " 0.05347145 0.04814566 0.05814001 0.04117772 0.03249112 0.03699621\n",
      " 0.04275579 0.05851563 0.05029804 0.06760351 0.06210269 0.04325439\n",
      " 0.0819372  0.13493125 0.03334164 0.08649669 0.03956926 0.040724\n",
      " 0.06132282 0.0373304  0.06338682 0.07698555 0.09903601 0.05281854\n",
      " 0.70879262 0.03930917 0.04996989 0.05168641 0.0647102  0.08186251\n",
      " 0.0587548  0.15820383 0.03903508 0.03714939 0.07546974 0.04461387\n",
      " 0.05097211 0.07150736 0.29364287 0.1031248  0.12029064 0.05358701\n",
      " 0.04264738 0.06994989 0.0630182  0.03568432 0.04217143 0.03682065\n",
      " 0.22140509 0.25547499 0.43347688 0.04984711 0.41243647 0.03661809\n",
      " 0.03975512 0.05499503 0.03968524 0.11055779 0.11906872 0.56734879\n",
      " 0.0901607  0.05444219 0.04320751 0.05161595 0.67596681 0.05717424\n",
      " 0.04830003 0.03829317 0.06064688 0.03803467 0.11177956 0.06655858\n",
      " 0.04979422 0.04045965 0.04259978 0.03434909 0.04610413 0.03388399\n",
      " 0.03214848 0.05704017 0.06320977 0.05493326 0.05672385 0.06528677\n",
      " 0.06101528 0.07207466 0.33459079 0.04005425 0.03564721 0.08677418\n",
      " 0.03849406 0.04077618 0.43242515 0.05772434 0.05689106 0.45683958\n",
      " 0.084195   0.08704257 0.02566198 0.05281012 0.05934293 0.05307705\n",
      " 0.11470834 0.24505413 0.04773927 0.15100351 0.03674091 0.03961738\n",
      " 0.05261223 0.0582801  0.13529208 0.05664845 0.06644018 0.03685757\n",
      " 0.07831862 0.04117537 0.75704335 0.08788698 0.05405677 0.06115888\n",
      " 0.06485857 0.05738281 0.04774103 0.47847168 0.05825296 0.08673171\n",
      " 0.40831405 0.03897788 0.05130241 0.04073667 0.04963603 0.04837079\n",
      " 0.04160977 0.09256028 0.0487383  0.0445981  0.04664497 0.38780332\n",
      " 0.05739776 0.04824073 0.06486205 0.03804024 0.23798865 0.05286149\n",
      " 0.04319029 0.06788013 0.11770124 0.68289032 0.13416707 0.12497945\n",
      " 0.04687256 0.04237489 0.0717574  0.17835691 0.04874249 0.04334626\n",
      " 0.04320751 0.07678778 0.04074676 0.05093616 0.03238846 0.05555888\n",
      " 0.53808721 0.05210072 0.03005011 0.08792922 0.05272393 0.04025316\n",
      " 0.10576571 0.02817831 0.04572546 0.05660384 0.05119709 0.05266091\n",
      " 0.49333674 0.04856104 0.06575938 0.03847249 0.03607287 0.17312282\n",
      " 0.08533061 0.05708449 0.0547022  0.05493475 0.0742916  0.05235958\n",
      " 0.03905757 0.04471381 0.05013018 0.04846212 0.06383449 0.06610404\n",
      " 0.05729347 0.6417061  0.04777213 0.04813733 0.06394299 0.07474622\n",
      " 0.04589982 0.09142969 0.04579195 0.55504402 0.03343143 0.03990144\n",
      " 0.04620755 0.05911819 0.0629345  0.03202761 0.06452499 0.05097236\n",
      " 0.09035135 0.04403277 0.1429126  0.06134871 0.09791949 0.07654494\n",
      " 0.04632275 0.06732471 0.14734768 0.05829107 0.06477163 0.05116237\n",
      " 0.11851548 0.04809727 0.04273645 0.35212263 0.11103926 0.49950603\n",
      " 0.03124012 0.04754515 0.58353095 0.57867152 0.08262948 0.0326672\n",
      " 0.04112201 0.05307061 0.04753338 0.06060424 0.0600933  0.06609195\n",
      " 0.0363097  0.0513256  0.06396512 0.05915255 0.04759143 0.0318786\n",
      " 0.04499597 0.06764324 0.50699854 0.1391652  0.13540852 0.04305445\n",
      " 0.05817329 0.04042923 0.05035019 0.0417145  0.51416586 0.04532434\n",
      " 0.09223565 0.03604624 0.51534138 0.04559351 0.02875955 0.04611283\n",
      " 0.04229256 0.03703335 0.10594274 0.08368794 0.61052237 0.12799476\n",
      " 0.06024343 0.06221377 0.04259957 0.06072943 0.07067127 0.05530313\n",
      " 0.11175716 0.04117828 0.07831625 0.14340235 0.80347993 0.04644088\n",
      " 0.09602425 0.03500366 0.03897807 0.07698555 0.05253897 0.05522778\n",
      " 0.04741699 0.05400133 0.05210066 0.11258744 0.09891172 0.05122497\n",
      " 0.17302453 0.05427082 0.34819835 0.06337878 0.04963603 0.04344276\n",
      " 0.05212228 0.04267865 0.08132187 0.11514498 0.41339519 0.12799476\n",
      " 0.09151156 0.12029064 0.06804602 0.06412789 0.04421937 0.06177302\n",
      " 0.07420142 0.04903265 0.030263   0.35727295 0.03921782 0.03786827\n",
      " 0.04121664 0.04065444 0.08880581 0.02946902 0.06027085 0.04303107\n",
      " 0.15579611 0.0488232  0.07341046 0.08321926 0.08939465 0.04886004\n",
      " 0.06161295 0.04967206 0.04236698 0.05050291 0.04747955 0.08683697\n",
      " 0.06300991 0.06855138 0.060456   0.06313888 0.04064244 0.10065793\n",
      " 0.16684843 0.03869724 0.0366981  0.43030848 0.04031099 0.38810386\n",
      " 0.0544998  0.03550268 0.29286897 0.03706596 0.04059054 0.16516853\n",
      " 0.05772987 0.09985    0.08790759 0.05903128 0.48459606 0.06612954\n",
      " 0.09704888 0.05357523 0.04065444 0.05559689 0.02903095 0.19617582\n",
      " 0.03128411 0.05892139 0.06727581 0.04592553 0.04402034 0.05219823\n",
      " 0.0470602  0.83179444 0.0814347  0.18225066 0.03566611 0.35212263\n",
      " 0.03921782 0.06029397 0.08238546 0.04325595 0.06111773 0.05903128\n",
      " 0.04355452 0.05400133 0.22653184 0.03199119 0.15863695 0.07116867\n",
      " 0.15393277 0.0674057  0.05751223 0.04267865 0.0506119  0.08930111\n",
      " 0.65435479 0.05478349 0.05630362 0.05830368 0.06036226 0.03525036\n",
      " 0.05976833 0.05218205 0.06403914 0.07417503 0.05728606 0.06336673\n",
      " 0.04331855 0.03758414 0.0342153  0.05538839 0.05327081 0.41915546\n",
      " 0.55458166 0.5205017  0.03680047 0.64001484 0.04719084 0.03881386\n",
      " 0.05946121 0.04031072 0.06474809 0.03695237 0.32020115 0.41915546\n",
      " 0.34220314 0.05813275 0.13401014 0.0274219  0.03011853 0.03928316\n",
      " 0.0681926  0.05885008 0.05405677 0.5461807  0.13013726 0.03440974\n",
      " 0.04130187 0.13898697 0.04301235 0.09171198 0.04091462 0.0470602\n",
      " 0.0645679  0.41481041 0.04051952 0.24691016 0.21761824 0.22730197\n",
      " 0.05527915 0.03786827 0.08866261 0.1230635  0.09450892 0.16065019\n",
      " 0.04159329 0.04323718 0.05915712 0.06221377 0.09360622 0.06051099\n",
      " 0.04059054 0.03970627 0.05135314 0.06263257 0.12284406 0.03427964\n",
      " 0.04431061 0.06703909 0.06557977 0.06938953 0.03593763 0.05547049\n",
      " 0.09111847 0.06036226 0.10386831 0.02922663 0.04364629 0.03751136\n",
      " 0.06359841 0.05825296 0.05895072 0.09327554 0.04939035 0.07656414\n",
      " 0.05937768 0.03596349 0.14709244 0.05230836 0.12117905 1.\n",
      " 0.49997242 0.05912671 0.04841662 0.06560288 0.04643794 0.05273821\n",
      " 0.04255169 0.09831856 0.06396512 0.51534138 0.04264738 0.05635465\n",
      " 0.05008924 0.05361979 0.07754744 0.09122454 0.0877086  0.11093138\n",
      " 0.04838479 0.07581106 0.36767484 0.0401595 ]\n"
     ]
    }
   ],
   "execution_count": 7
  },
  {
   "metadata": {
    "ExecuteTime": {
     "end_time": "2024-10-07T03:23:54.886918Z",
     "start_time": "2024-10-07T03:23:54.880868Z"
    }
   },
   "cell_type": "code",
   "source": "gamma.cdf(newArr[26],fit_alpha, fit_loc, fit_beta)",
   "id": "6fd84506464b2a25",
   "outputs": [
    {
     "data": {
      "text/plain": [
       "0.9982574244685416"
      ]
     },
     "execution_count": 8,
     "metadata": {},
     "output_type": "execute_result"
    }
   ],
   "execution_count": 8
  },
  {
   "metadata": {
    "ExecuteTime": {
     "end_time": "2024-10-07T03:23:55.075534Z",
     "start_time": "2024-10-07T03:23:54.998455Z"
    }
   },
   "cell_type": "code",
   "source": [
    "count = 0\n",
    "outliers = []\n",
    "for x in range(newArr.shape[0]):\n",
    "    hol = gamma.cdf(newArr[x], fit_alpha, fit_loc, fit_beta)\n",
    "    if hol > .95:\n",
    "        outliers.append(x)\n",
    "    \n",
    "    count += 1\n",
    "\n",
    "print(count,outliers)"
   ],
   "id": "200ca327265e6f2c",
   "outputs": [
    {
     "name": "stdout",
     "output_type": "stream",
     "text": [
      "1000 [3, 10, 23, 26, 28, 44, 48, 65, 82, 103, 120, 127, 141, 204, 228, 244, 270, 279, 282, 289, 312, 315, 339, 351, 368, 377, 384, 408, 416, 426, 433, 445, 453, 481, 510, 524, 536, 538, 545, 550, 572, 578, 581, 602, 609, 612, 623, 633, 648, 660, 679, 687, 711, 713, 716, 717, 734, 742, 746, 754, 766, 782, 790, 801, 831, 833, 836, 844, 859, 863, 882, 899, 900, 901, 903, 910, 911, 912, 921, 931, 977, 978, 987, 998]\n"
     ]
    }
   ],
   "execution_count": 9
  },
  {
   "metadata": {
    "ExecuteTime": {
     "end_time": "2024-10-07T03:23:55.149308Z",
     "start_time": "2024-10-07T03:23:55.145624Z"
    }
   },
   "cell_type": "code",
   "source": [
    "newOutliers = []\n",
    "for z in outliers:\n",
    "    newOutliers += [X[z]]"
   ],
   "id": "eb35997aad629d2",
   "outputs": [],
   "execution_count": 10
  },
  {
   "metadata": {
    "ExecuteTime": {
     "end_time": "2024-10-07T03:23:55.191665Z",
     "start_time": "2024-10-07T03:23:55.187009Z"
    }
   },
   "cell_type": "code",
   "source": [
    "newOutliers = np.array(newOutliers)\n",
    "print(newOutliers)"
   ],
   "id": "95d78d4b89caa630",
   "outputs": [
    {
     "name": "stdout",
     "output_type": "stream",
     "text": [
      "[[0.05387244 0.81749931]\n",
      " [0.0411154  0.30481349]\n",
      " [0.25450516 0.44092021]\n",
      " [0.95015164 0.29855145]\n",
      " [0.67798253 0.10952313]\n",
      " [0.40395313 0.77649238]\n",
      " [0.35230415 0.06913662]\n",
      " [0.09406827 0.71862799]\n",
      " [0.62974824 0.38431409]\n",
      " [0.30207977 0.52614752]\n",
      " [0.52365849 0.96455273]\n",
      " [0.25080783 0.32019419]\n",
      " [0.65601374 0.37658891]\n",
      " [0.11758099 0.99721148]\n",
      " [0.5862971  0.99690603]\n",
      " [0.66106943 0.05987371]\n",
      " [0.62294266 0.75742625]\n",
      " [0.23922925 0.78278315]\n",
      " [0.63427995 0.22630106]\n",
      " [0.79083187 0.22936609]\n",
      " [0.44148001 0.11567543]\n",
      " [0.10452004 0.56044401]\n",
      " [0.21136834 0.97376456]\n",
      " [0.42326468 0.75434989]\n",
      " [0.61260586 0.30621872]\n",
      " [0.20351433 0.53446788]\n",
      " [0.63773931 0.4624992 ]\n",
      " [0.2147573  0.74150646]\n",
      " [0.27808274 0.38134307]\n",
      " [0.57275099 0.33406639]\n",
      " [0.41780775 0.06321893]\n",
      " [0.1825997  0.28018896]\n",
      " [0.16089571 0.37318718]\n",
      " [0.73549088 0.67932283]\n",
      " [0.42960603 0.47535593]\n",
      " [0.21693598 0.3411642 ]\n",
      " [0.79797523 0.36469689]\n",
      " [0.39422585 0.11723738]\n",
      " [0.92533356 0.300121  ]\n",
      " [0.46148204 0.052933  ]\n",
      " [0.63357465 0.90946783]\n",
      " [0.60586657 0.5187897 ]\n",
      " [0.00449169 0.27684684]\n",
      " [0.45209695 0.94076334]\n",
      " [0.2128357  0.71434743]\n",
      " [0.12043165 0.75691696]\n",
      " [0.10831702 0.65699705]\n",
      " [0.95988893 0.21008051]\n",
      " [0.43760613 0.17257381]\n",
      " [0.32914814 0.73458152]\n",
      " [0.44276212 0.2695844 ]\n",
      " [0.24153007 0.51472363]\n",
      " [0.08772895 0.72752753]\n",
      " [0.68928542 0.29036188]\n",
      " [0.2617354  0.83737066]\n",
      " [0.08688185 0.85633185]\n",
      " [0.28561353 0.61599279]\n",
      " [0.30792337 0.35531477]\n",
      " [0.37303045 0.46565067]\n",
      " [0.04476256 0.46063628]\n",
      " [0.40947002 0.97248061]\n",
      " [0.1926418  0.29085551]\n",
      " [0.0189338  0.70818814]\n",
      " [0.63971761 0.84027016]\n",
      " [0.63131515 0.61010346]\n",
      " [0.59808731 0.42240055]\n",
      " [0.81914008 0.39343148]\n",
      " [0.59311594 0.47413773]\n",
      " [0.93743616 0.09168641]\n",
      " [0.04158862 0.65290252]\n",
      " [0.42274113 0.31037026]\n",
      " [0.07451451 0.33299316]\n",
      " [0.01431467 0.32584924]\n",
      " [0.90021336 0.21592165]\n",
      " [0.92294741 0.25345779]\n",
      " [1.         0.47537399]\n",
      " [0.17027301 0.37468173]\n",
      " [0.08848442 0.64418818]\n",
      " [0.03701572 0.31684673]\n",
      " [0.66286537 0.75580185]\n",
      " [0.904327   0.00593116]\n",
      " [0.16115301 0.87465   ]\n",
      " [0.25484708 0.51585791]\n",
      " [0.03214812 0.65470178]]\n"
     ]
    }
   ],
   "execution_count": 11
  },
  {
   "metadata": {
    "ExecuteTime": {
     "end_time": "2024-10-07T03:23:55.450067Z",
     "start_time": "2024-10-07T03:23:55.290955Z"
    }
   },
   "cell_type": "code",
   "source": [
    "plt.scatter(X[:,0],X[:,1])\n",
    "plt.scatter(newOutliers[:,0],newOutliers[:,1])\n",
    "plt.show()"
   ],
   "id": "821e8b4c27624410",
   "outputs": [
    {
     "data": {
      "text/plain": [
       "<Figure size 1500x700 with 1 Axes>"
      ],
      "image/png": "[encoded data removed]"
     },
     "metadata": {},
     "output_type": "display_data"
    }
   ],
   "execution_count": 12
  },
  {
   "metadata": {
    "ExecuteTime": {
     "end_time": "2024-10-07T03:23:55.470338Z",
     "start_time": "2024-10-07T03:23:55.466611Z"
    }
   },
   "cell_type": "code",
   "source": [
    "root = 0\n",
    "for t in outliers:\n",
    "    if y[t] == 1:\n",
    "        root += 1\n",
    "\n",
    "print(root,len(outliers))"
   ],
   "id": "7696697d3a7fee6f",
   "outputs": [
    {
     "name": "stdout",
     "output_type": "stream",
     "text": [
      "82 84\n"
     ]
    }
   ],
   "execution_count": 13
  },
  {
   "metadata": {
    "ExecuteTime": {
     "end_time": "2024-10-07T03:23:55.498182Z",
     "start_time": "2024-10-07T03:23:55.495666Z"
    }
   },
   "cell_type": "code",
   "source": "",
   "id": "afe21e3366ed5b59",
   "outputs": [],
   "execution_count": null
  }
 ],
 "metadata": {
  "kernelspec": {
   "display_name": "Python 3",
   "language": "python",
   "name": "python3"
  },
  "language_info": {
   "codemirror_mode": {
    "name": "ipython",
    "version": 2
   },
   "file_extension": ".py",
   "mimetype": "text/x-python",
   "name": "python",
   "nbconvert_exporter": "python",
   "pygments_lexer": "ipython2",
   "version": "2.7.6"
  }
 },
 "nbformat": 4,
 "nbformat_minor": 5
}
