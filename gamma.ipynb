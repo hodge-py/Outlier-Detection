{
 "cells": [
  {
   "cell_type": "code",
   "id": "initial_id",
   "metadata": {
    "collapsed": true,
    "ExecuteTime": {
     "end_time": "2024-10-02T17:29:27.354441Z",
     "start_time": "2024-10-02T17:29:27.350475Z"
    }
   },
   "source": [
    "from operator import index\n",
    "\n",
    "import numpy as np\n",
    "from sklearn.neighbors import NearestNeighbors\n",
    "import matplotlib.pyplot as plt\n",
    "from sklearn.datasets import make_blobs\n",
    "import pandas as pd\n",
    "from sklearn.preprocessing import LabelEncoder\n",
    "from statsmodels.stats.stattools import medcouple\n",
    "from scipy.stats import skew\n",
    "from scipy.stats import gamma\n",
    "\n",
    "plt.rcParams['figure.figsize'] = [15, 7]"
   ],
   "outputs": [],
   "execution_count": 8
  },
  {
   "metadata": {
    "ExecuteTime": {
     "end_time": "2024-10-02T17:28:55.257702Z",
     "start_time": "2024-10-02T17:28:55.239117Z"
    }
   },
   "cell_type": "code",
   "source": [
    "df = pd.read_csv(\"./outlierDatasets/synthetic.csv\")\n",
    "df.head()"
   ],
   "id": "3597577df169c09a",
   "outputs": [
    {
     "data": {
      "text/plain": [
       "          0         1         2         3         4         5         6  \\\n",
       "0  0.435518  0.038492  0.551343  0.140049  0.899545  0.588684  0.299706   \n",
       "1  0.633197  0.034490  0.319406  0.879141  0.163079  0.184356  0.160583   \n",
       "2  0.421558  0.299824  0.602220  0.521654  0.954621  0.547448  0.882898   \n",
       "3  0.817491  0.647528  0.046214  0.487270  0.053872  0.817499  0.390589   \n",
       "4  0.291513  0.474018  0.065267  0.410573  0.903696  0.466520  0.196878   \n",
       "\n",
       "          7         8         9 outlier  \n",
       "0  0.245713  0.367375  0.452970      no  \n",
       "1  0.104973  0.294980  0.429709      no  \n",
       "2  0.586641  0.840204  0.212529      no  \n",
       "3  0.394750  0.736854  0.442689     yes  \n",
       "4  0.165370  0.297764  0.467911      no  "
      ],
      "text/html": [
       "<div>\n",
       "<style scoped>\n",
       "    .dataframe tbody tr th:only-of-type {\n",
       "        vertical-align: middle;\n",
       "    }\n",
       "\n",
       "    .dataframe tbody tr th {\n",
       "        vertical-align: top;\n",
       "    }\n",
       "\n",
       "    .dataframe thead th {\n",
       "        text-align: right;\n",
       "    }\n",
       "</style>\n",
       "<table border=\"1\" class=\"dataframe\">\n",
       "  <thead>\n",
       "    <tr style=\"text-align: right;\">\n",
       "      <th></th>\n",
       "      <th>0</th>\n",
       "      <th>1</th>\n",
       "      <th>2</th>\n",
       "      <th>3</th>\n",
       "      <th>4</th>\n",
       "      <th>5</th>\n",
       "      <th>6</th>\n",
       "      <th>7</th>\n",
       "      <th>8</th>\n",
       "      <th>9</th>\n",
       "      <th>outlier</th>\n",
       "    </tr>\n",
       "  </thead>\n",
       "  <tbody>\n",
       "    <tr>\n",
       "      <th>0</th>\n",
       "      <td>0.435518</td>\n",
       "      <td>0.038492</td>\n",
       "      <td>0.551343</td>\n",
       "      <td>0.140049</td>\n",
       "      <td>0.899545</td>\n",
       "      <td>0.588684</td>\n",
       "      <td>0.299706</td>\n",
       "      <td>0.245713</td>\n",
       "      <td>0.367375</td>\n",
       "      <td>0.452970</td>\n",
       "      <td>no</td>\n",
       "    </tr>\n",
       "    <tr>\n",
       "      <th>1</th>\n",
       "      <td>0.633197</td>\n",
       "      <td>0.034490</td>\n",
       "      <td>0.319406</td>\n",
       "      <td>0.879141</td>\n",
       "      <td>0.163079</td>\n",
       "      <td>0.184356</td>\n",
       "      <td>0.160583</td>\n",
       "      <td>0.104973</td>\n",
       "      <td>0.294980</td>\n",
       "      <td>0.429709</td>\n",
       "      <td>no</td>\n",
       "    </tr>\n",
       "    <tr>\n",
       "      <th>2</th>\n",
       "      <td>0.421558</td>\n",
       "      <td>0.299824</td>\n",
       "      <td>0.602220</td>\n",
       "      <td>0.521654</td>\n",
       "      <td>0.954621</td>\n",
       "      <td>0.547448</td>\n",
       "      <td>0.882898</td>\n",
       "      <td>0.586641</td>\n",
       "      <td>0.840204</td>\n",
       "      <td>0.212529</td>\n",
       "      <td>no</td>\n",
       "    </tr>\n",
       "    <tr>\n",
       "      <th>3</th>\n",
       "      <td>0.817491</td>\n",
       "      <td>0.647528</td>\n",
       "      <td>0.046214</td>\n",
       "      <td>0.487270</td>\n",
       "      <td>0.053872</td>\n",
       "      <td>0.817499</td>\n",
       "      <td>0.390589</td>\n",
       "      <td>0.394750</td>\n",
       "      <td>0.736854</td>\n",
       "      <td>0.442689</td>\n",
       "      <td>yes</td>\n",
       "    </tr>\n",
       "    <tr>\n",
       "      <th>4</th>\n",
       "      <td>0.291513</td>\n",
       "      <td>0.474018</td>\n",
       "      <td>0.065267</td>\n",
       "      <td>0.410573</td>\n",
       "      <td>0.903696</td>\n",
       "      <td>0.466520</td>\n",
       "      <td>0.196878</td>\n",
       "      <td>0.165370</td>\n",
       "      <td>0.297764</td>\n",
       "      <td>0.467911</td>\n",
       "      <td>no</td>\n",
       "    </tr>\n",
       "  </tbody>\n",
       "</table>\n",
       "</div>"
      ]
     },
     "execution_count": 3,
     "metadata": {},
     "output_type": "execute_result"
    }
   ],
   "execution_count": 3
  },
  {
   "metadata": {
    "ExecuteTime": {
     "end_time": "2024-10-02T17:28:55.308715Z",
     "start_time": "2024-10-02T17:28:55.304244Z"
    }
   },
   "cell_type": "code",
   "source": [
    "X = df.iloc[:, 4:6].values\n",
    "copy_X = df.iloc[:, 2:4]\n",
    "y = df.iloc[:, -1:].values"
   ],
   "id": "39846121f4071a6d",
   "outputs": [],
   "execution_count": 4
  },
  {
   "metadata": {
    "ExecuteTime": {
     "end_time": "2024-10-02T17:28:55.358985Z",
     "start_time": "2024-10-02T17:28:55.352784Z"
    }
   },
   "cell_type": "code",
   "source": [
    "le = LabelEncoder()\n",
    "y = le.fit_transform(y)"
   ],
   "id": "7385a99b64987bd1",
   "outputs": [
    {
     "name": "stderr",
     "output_type": "stream",
     "text": [
      "C:\\Users\\khodg\\AppData\\Local\\Programs\\Python\\Python311\\Lib\\site-packages\\sklearn\\preprocessing\\_label.py:114: DataConversionWarning: A column-vector y was passed when a 1d array was expected. Please change the shape of y to (n_samples, ), for example using ravel().\n",
      "  y = column_or_1d(y, warn=True)\n"
     ]
    }
   ],
   "execution_count": 5
  },
  {
   "metadata": {
    "ExecuteTime": {
     "end_time": "2024-10-02T17:28:55.488827Z",
     "start_time": "2024-10-02T17:28:55.481889Z"
    }
   },
   "cell_type": "code",
   "source": [
    "def main(X,y,n):\n",
    "    nn = NearestNeighbors(n_neighbors=n)\n",
    "    nn.fit(X, y)\n",
    "    dist, knn = nn.kneighbors(X)  # returns N index neighbors including self\n",
    "    return knn, dist\n",
    "\n",
    "knn, distReturn = main(X,y,10)\n",
    "testDis = distReturn.reshape(1,-1)"
   ],
   "id": "6540befb733bcb35",
   "outputs": [],
   "execution_count": 6
  },
  {
   "metadata": {
    "ExecuteTime": {
     "end_time": "2024-10-02T17:28:55.532756Z",
     "start_time": "2024-10-02T17:28:55.525325Z"
    }
   },
   "cell_type": "code",
   "source": [
    "def generateArr(newDist, median='median'):\n",
    "    arr = []\n",
    "    for x in newDist:  # finds the distance away from that point (index 0)\n",
    "        if median == 'median':\n",
    "            arr += [np.median(x)]\n",
    "        elif median == 'sum': # min + median + max\n",
    "            arr += [x[1]+np.max(x)+np.median(x)]\n",
    "        elif median == 'max':\n",
    "            arr += [np.max(x)]\n",
    "        elif median == 'minMax':\n",
    "            arr += [np.max(x)+x[1]]\n",
    "        elif median == 'medMax':\n",
    "            arr += [np.median(x)+np.max(x)]\n",
    "        elif median == 'min':\n",
    "            arr += [x[1]]\n",
    "            \n",
    "\n",
    "    return arr\n",
    "\n",
    "distReturn = np.array(distReturn)\n",
    "arr = generateArr(distReturn, median=\"max\")"
   ],
   "id": "c442fa4e973143",
   "outputs": [],
   "execution_count": 7
  },
  {
   "metadata": {
    "ExecuteTime": {
     "end_time": "2024-10-02T17:48:00.660601Z",
     "start_time": "2024-10-02T17:48:00.616355Z"
    }
   },
   "cell_type": "code",
   "source": [
    "#gamma\n",
    "newArr = arr / max(arr)\n",
    "fit_alpha, fit_loc, fit_beta = gamma.fit(newArr)"
   ],
   "id": "6f46bd549f375d1",
   "outputs": [],
   "execution_count": 35
  },
  {
   "metadata": {
    "ExecuteTime": {
     "end_time": "2024-10-02T17:48:01.456385Z",
     "start_time": "2024-10-02T17:48:01.452292Z"
    }
   },
   "cell_type": "code",
   "source": "print(fit_alpha, fit_loc, fit_beta)",
   "id": "6fd84506464b2a25",
   "outputs": [
    {
     "name": "stdout",
     "output_type": "stream",
     "text": [
      "0.7176403391103336 0.030852526925967447 0.10565698242527571\n"
     ]
    }
   ],
   "execution_count": 36
  },
  {
   "metadata": {
    "ExecuteTime": {
     "end_time": "2024-10-02T17:48:58.173533Z",
     "start_time": "2024-10-02T17:48:58.169757Z"
    }
   },
   "cell_type": "code",
   "source": "data = gamma.rvs(fit_alpha, fit_loc, fit_beta,size=100)",
   "id": "200ca327265e6f2c",
   "outputs": [],
   "execution_count": 41
  },
  {
   "metadata": {
    "ExecuteTime": {
     "end_time": "2024-10-02T17:48:59.695050Z",
     "start_time": "2024-10-02T17:48:59.569118Z"
    }
   },
   "cell_type": "code",
   "source": [
    "plt.hist(data,bins=40)\n",
    "plt.show()"
   ],
   "id": "eb35997aad629d2",
   "outputs": [
    {
     "data": {
      "text/plain": [
       "<Figure size 1500x700 with 1 Axes>"
      ],
      "image/png": "[encoded data removed]"
     },
     "metadata": {},
     "output_type": "display_data"
    }
   ],
   "execution_count": 42
  },
  {
   "metadata": {
    "ExecuteTime": {
     "end_time": "2024-10-02T17:55:23.561929Z",
     "start_time": "2024-10-02T17:55:23.557895Z"
    }
   },
   "cell_type": "code",
   "source": "print(gamma.interval(.95,fit_alpha, fit_loc, fit_beta))",
   "id": "95d78d4b89caa630",
   "outputs": [
    {
     "name": "stdout",
     "output_type": "stream",
     "text": [
      "(0.03139844194797277, 0.3543860164624325)\n"
     ]
    }
   ],
   "execution_count": 56
  },
  {
   "metadata": {},
   "cell_type": "code",
   "outputs": [],
   "execution_count": null,
   "source": "",
   "id": "821e8b4c27624410"
  }
 ],
 "metadata": {
  "kernelspec": {
   "display_name": "Python 3",
   "language": "python",
   "name": "python3"
  },
  "language_info": {
   "codemirror_mode": {
    "name": "ipython",
    "version": 2
   },
   "file_extension": ".py",
   "mimetype": "text/x-python",
   "name": "python",
   "nbconvert_exporter": "python",
   "pygments_lexer": "ipython2",
   "version": "2.7.6"
  }
 },
 "nbformat": 4,
 "nbformat_minor": 5
}
