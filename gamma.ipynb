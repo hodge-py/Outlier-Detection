{
 "cells": [
  {
   "cell_type": "code",
   "id": "initial_id",
   "metadata": {
    "collapsed": true,
    "ExecuteTime": {
     "end_time": "2024-10-03T07:14:35.839429Z",
     "start_time": "2024-10-03T07:14:35.835693Z"
    }
   },
   "source": [
    "from operator import index\n",
    "\n",
    "import numpy as np\n",
    "from sklearn.neighbors import NearestNeighbors\n",
    "import matplotlib.pyplot as plt\n",
    "from sklearn.datasets import make_blobs\n",
    "import pandas as pd\n",
    "from sklearn.preprocessing import LabelEncoder\n",
    "from statsmodels.stats.stattools import medcouple\n",
    "from scipy.stats import skew\n",
    "from scipy.stats import gamma\n",
    "\n",
    "plt.rcParams['figure.figsize'] = [15, 7]"
   ],
   "outputs": [],
   "execution_count": 132
  },
  {
   "metadata": {
    "ExecuteTime": {
     "end_time": "2024-10-03T07:14:35.868460Z",
     "start_time": "2024-10-03T07:14:35.852478Z"
    }
   },
   "cell_type": "code",
   "source": [
    "df = pd.read_csv(\"./outlierDatasets/synthetic.csv\")\n",
    "df.head()"
   ],
   "id": "3597577df169c09a",
   "outputs": [
    {
     "data": {
      "text/plain": [
       "          0         1         2         3         4         5         6  \\\n",
       "0  0.435518  0.038492  0.551343  0.140049  0.899545  0.588684  0.299706   \n",
       "1  0.633197  0.034490  0.319406  0.879141  0.163079  0.184356  0.160583   \n",
       "2  0.421558  0.299824  0.602220  0.521654  0.954621  0.547448  0.882898   \n",
       "3  0.817491  0.647528  0.046214  0.487270  0.053872  0.817499  0.390589   \n",
       "4  0.291513  0.474018  0.065267  0.410573  0.903696  0.466520  0.196878   \n",
       "\n",
       "          7         8         9 outlier  \n",
       "0  0.245713  0.367375  0.452970      no  \n",
       "1  0.104973  0.294980  0.429709      no  \n",
       "2  0.586641  0.840204  0.212529      no  \n",
       "3  0.394750  0.736854  0.442689     yes  \n",
       "4  0.165370  0.297764  0.467911      no  "
      ],
      "text/html": [
       "<div>\n",
       "<style scoped>\n",
       "    .dataframe tbody tr th:only-of-type {\n",
       "        vertical-align: middle;\n",
       "    }\n",
       "\n",
       "    .dataframe tbody tr th {\n",
       "        vertical-align: top;\n",
       "    }\n",
       "\n",
       "    .dataframe thead th {\n",
       "        text-align: right;\n",
       "    }\n",
       "</style>\n",
       "<table border=\"1\" class=\"dataframe\">\n",
       "  <thead>\n",
       "    <tr style=\"text-align: right;\">\n",
       "      <th></th>\n",
       "      <th>0</th>\n",
       "      <th>1</th>\n",
       "      <th>2</th>\n",
       "      <th>3</th>\n",
       "      <th>4</th>\n",
       "      <th>5</th>\n",
       "      <th>6</th>\n",
       "      <th>7</th>\n",
       "      <th>8</th>\n",
       "      <th>9</th>\n",
       "      <th>outlier</th>\n",
       "    </tr>\n",
       "  </thead>\n",
       "  <tbody>\n",
       "    <tr>\n",
       "      <th>0</th>\n",
       "      <td>0.435518</td>\n",
       "      <td>0.038492</td>\n",
       "      <td>0.551343</td>\n",
       "      <td>0.140049</td>\n",
       "      <td>0.899545</td>\n",
       "      <td>0.588684</td>\n",
       "      <td>0.299706</td>\n",
       "      <td>0.245713</td>\n",
       "      <td>0.367375</td>\n",
       "      <td>0.452970</td>\n",
       "      <td>no</td>\n",
       "    </tr>\n",
       "    <tr>\n",
       "      <th>1</th>\n",
       "      <td>0.633197</td>\n",
       "      <td>0.034490</td>\n",
       "      <td>0.319406</td>\n",
       "      <td>0.879141</td>\n",
       "      <td>0.163079</td>\n",
       "      <td>0.184356</td>\n",
       "      <td>0.160583</td>\n",
       "      <td>0.104973</td>\n",
       "      <td>0.294980</td>\n",
       "      <td>0.429709</td>\n",
       "      <td>no</td>\n",
       "    </tr>\n",
       "    <tr>\n",
       "      <th>2</th>\n",
       "      <td>0.421558</td>\n",
       "      <td>0.299824</td>\n",
       "      <td>0.602220</td>\n",
       "      <td>0.521654</td>\n",
       "      <td>0.954621</td>\n",
       "      <td>0.547448</td>\n",
       "      <td>0.882898</td>\n",
       "      <td>0.586641</td>\n",
       "      <td>0.840204</td>\n",
       "      <td>0.212529</td>\n",
       "      <td>no</td>\n",
       "    </tr>\n",
       "    <tr>\n",
       "      <th>3</th>\n",
       "      <td>0.817491</td>\n",
       "      <td>0.647528</td>\n",
       "      <td>0.046214</td>\n",
       "      <td>0.487270</td>\n",
       "      <td>0.053872</td>\n",
       "      <td>0.817499</td>\n",
       "      <td>0.390589</td>\n",
       "      <td>0.394750</td>\n",
       "      <td>0.736854</td>\n",
       "      <td>0.442689</td>\n",
       "      <td>yes</td>\n",
       "    </tr>\n",
       "    <tr>\n",
       "      <th>4</th>\n",
       "      <td>0.291513</td>\n",
       "      <td>0.474018</td>\n",
       "      <td>0.065267</td>\n",
       "      <td>0.410573</td>\n",
       "      <td>0.903696</td>\n",
       "      <td>0.466520</td>\n",
       "      <td>0.196878</td>\n",
       "      <td>0.165370</td>\n",
       "      <td>0.297764</td>\n",
       "      <td>0.467911</td>\n",
       "      <td>no</td>\n",
       "    </tr>\n",
       "  </tbody>\n",
       "</table>\n",
       "</div>"
      ]
     },
     "execution_count": 133,
     "metadata": {},
     "output_type": "execute_result"
    }
   ],
   "execution_count": 133
  },
  {
   "metadata": {
    "ExecuteTime": {
     "end_time": "2024-10-03T07:14:35.939515Z",
     "start_time": "2024-10-03T07:14:35.935988Z"
    }
   },
   "cell_type": "code",
   "source": [
    "X = df.iloc[:, 4:6].values\n",
    "copy_X = df.iloc[:, 2:4]\n",
    "y = df.iloc[:, -1:].values"
   ],
   "id": "39846121f4071a6d",
   "outputs": [],
   "execution_count": 134
  },
  {
   "metadata": {
    "ExecuteTime": {
     "end_time": "2024-10-03T07:14:35.984104Z",
     "start_time": "2024-10-03T07:14:35.980426Z"
    }
   },
   "cell_type": "code",
   "source": [
    "le = LabelEncoder()\n",
    "y = le.fit_transform(y)"
   ],
   "id": "7385a99b64987bd1",
   "outputs": [
    {
     "name": "stderr",
     "output_type": "stream",
     "text": [
      "/home/karson/Documents/GitHub/Outlier-Detection/venv/lib/python3.12/site-packages/sklearn/preprocessing/_label.py:114: DataConversionWarning: A column-vector y was passed when a 1d array was expected. Please change the shape of y to (n_samples, ), for example using ravel().\n",
      "  y = column_or_1d(y, warn=True)\n"
     ]
    }
   ],
   "execution_count": 135
  },
  {
   "metadata": {
    "ExecuteTime": {
     "end_time": "2024-10-03T07:14:36.039118Z",
     "start_time": "2024-10-03T07:14:36.030642Z"
    }
   },
   "cell_type": "code",
   "source": [
    "def main(X,y,n):\n",
    "    nn = NearestNeighbors(n_neighbors=n)\n",
    "    nn.fit(X, y)\n",
    "    dist, knn = nn.kneighbors(X)  # returns N index neighbors including self\n",
    "    return knn, dist\n",
    "\n",
    "knn, distReturn = main(X,y,10)\n",
    "testDis = distReturn.reshape(1,-1)"
   ],
   "id": "6540befb733bcb35",
   "outputs": [],
   "execution_count": 136
  },
  {
   "metadata": {
    "ExecuteTime": {
     "end_time": "2024-10-03T07:14:36.079736Z",
     "start_time": "2024-10-03T07:14:36.072007Z"
    }
   },
   "cell_type": "code",
   "source": [
    "def generateArr(newDist, median='median'):\n",
    "    arr = []\n",
    "    for x in newDist:  # finds the distance away from that point (index 0)\n",
    "        if median == 'median':\n",
    "            arr += [np.median(x)]\n",
    "        elif median == 'sum': # min + median + max\n",
    "            arr += [x[1]+np.max(x)+np.median(x)]\n",
    "        elif median == 'max':\n",
    "            arr += [np.max(x)]\n",
    "        elif median == 'minMax':\n",
    "            arr += [np.max(x)+x[1]]\n",
    "        elif median == 'medMax':\n",
    "            arr += [np.median(x)+np.max(x)]\n",
    "        elif median == 'min':\n",
    "            arr += [x[1]]\n",
    "            \n",
    "\n",
    "    return arr\n",
    "\n",
    "distReturn = np.array(distReturn)\n",
    "arr = generateArr(distReturn, median=\"max\")"
   ],
   "id": "c442fa4e973143",
   "outputs": [],
   "execution_count": 137
  },
  {
   "metadata": {
    "ExecuteTime": {
     "end_time": "2024-10-03T07:14:36.176662Z",
     "start_time": "2024-10-03T07:14:36.134900Z"
    }
   },
   "cell_type": "code",
   "source": [
    "#gamma\n",
    "newArr = arr / max(arr)\n",
    "fit_alpha, fit_loc, fit_beta = gamma.fit(newArr)\n",
    "print(newArr)"
   ],
   "id": "6f46bd549f375d1",
   "outputs": [
    {
     "name": "stdout",
     "output_type": "stream",
     "text": [
      "[0.0804304  0.07403752 0.14861196 0.57222388 0.09106785 0.09082171\n",
      " 0.04251839 0.07426696 0.06206366 0.07138414 0.46565671 0.04569372\n",
      " 0.05201553 0.04145893 0.11253916 0.05629386 0.03853804 0.03638902\n",
      " 0.08252213 0.09298093 0.17551297 0.04646864 0.04272184 0.39010647\n",
      " 0.04072363 0.07929493 0.56022223 0.03479771 0.83723738 0.04962269\n",
      " 0.07799497 0.08399886 0.07029446 0.05767093 0.04099623 0.04346143\n",
      " 0.0366013  0.06543367 0.06963918 0.06143321 0.12581636 0.05187932\n",
      " 0.05861911 0.06862301 0.67851583 0.07133427 0.06913619 0.08991523\n",
      " 0.34457046 0.04120855 0.06981847 0.04816682 0.05943617 0.05016758\n",
      " 0.05441623 0.06024223 0.07608803 0.04085094 0.06141701 0.05889015\n",
      " 0.04727533 0.07567196 0.03940658 0.03602333 0.03461207 0.40124881\n",
      " 0.06076565 0.13872047 0.05141522 0.14220789 0.05770245 0.08278567\n",
      " 0.08771892 0.04798154 0.10629182 0.04190084 0.05547782 0.06948245\n",
      " 0.06290415 0.04477111 0.03441938 0.05968268 0.44195262 0.09624853\n",
      " 0.05786322 0.07130244 0.1581445  0.12811593 0.08129913 0.06669654\n",
      " 0.09501904 0.05114883 0.16169096 0.15721574 0.07273407 0.14112511\n",
      " 0.05556092 0.08391227 0.09852328 0.06199938 0.04584406 0.05456221\n",
      " 0.05655483 0.57711131 0.07613505 0.14595933 0.04209324 0.19719869\n",
      " 0.08753302 0.04787176 0.0667608  0.08676171 0.04917955 0.03770987\n",
      " 0.03296593 0.04513255 0.04320077 0.06935866 0.03718128 0.06552018\n",
      " 0.62254082 0.04374514 0.0504793  0.06242186 0.07741126 0.04468289\n",
      " 0.06227793 0.35699963 0.17136458 0.15336506 0.04569904 0.06766353\n",
      " 0.12390547 0.04922909 0.0383672  0.03954338 0.14435392 0.0615675\n",
      " 0.09361347 0.06188964 0.03733058 0.41239463 0.05266106 0.08703866\n",
      " 0.05377688 0.05486546 0.04536715 0.08583804 0.06624886 0.05483297\n",
      " 0.04601336 0.04280246 0.03555212 0.05937674 0.03909945 0.04459646\n",
      " 0.05187992 0.18020086 0.07691657 0.03986729 0.04077915 0.0990775\n",
      " 0.03323774 0.03812058 0.04255479 0.03910574 0.04066001 0.0675772\n",
      " 0.10360546 0.05809644 0.04256376 0.0709555  0.11776311 0.05736695\n",
      " 0.04375498 0.09032546 0.04523988 0.06167775 0.07064003 0.04079838\n",
      " 0.10787177 0.12759508 0.04109148 0.04995547 0.07433569 0.06665372\n",
      " 0.08084085 0.04288044 0.05709596 0.04206745 0.04742409 0.09669598\n",
      " 0.03995596 0.07193486 0.14692199 0.04601574 0.08247557 0.05700001\n",
      " 0.03851582 0.05369873 0.05431768 0.05319685 0.09327433 0.04843449\n",
      " 0.92356495 0.06250742 0.10192314 0.0609635  0.07762171 0.06166679\n",
      " 0.0713254  0.04635458 0.03875639 0.08692547 0.08597267 0.03908157\n",
      " 0.07483992 0.09112442 0.03989862 0.04237245 0.06444036 0.03985815\n",
      " 0.04265252 0.04800484 0.04223318 0.04756806 0.14994491 0.09695829\n",
      " 0.49975364 0.06156578 0.05806621 0.06704568 0.10833213 0.07831678\n",
      " 0.06371332 0.04239272 0.03924003 0.15753012 0.10926755 0.04324787\n",
      " 0.05602115 0.04743666 0.05964357 0.0499244  0.84498802 0.04760711\n",
      " 0.05525126 0.11267367 0.04272184 0.05483297 0.04958968 0.07431276\n",
      " 0.05326978 0.03942586 0.04812998 0.09614552 0.14017207 0.0792999\n",
      " 0.0349375  0.06608814 0.06061853 0.07392418 0.04079909 0.05100272\n",
      " 0.11866766 0.03288179 0.07962367 0.04953771 0.05106778 0.03942098\n",
      " 0.49820106 0.03995111 0.04246015 0.03629215 0.0452826  0.05020679\n",
      " 0.05357275 0.09185126 0.12636629 0.55655432 0.03540527 0.22844841\n",
      " 0.66291975 0.08623865 0.04690586 0.05688773 0.03810019 0.07073348\n",
      " 0.05566032 0.57448074 0.05821082 0.07040239 0.05595909 0.03949692\n",
      " 0.09607365 0.04132484 0.04956755 0.04830482 0.04735533 0.04186572\n",
      " 0.06689985 0.05591065 0.10543062 0.05691854 0.06074866 0.11376025\n",
      " 0.06304473 0.04252429 0.08753511 0.04610546 0.1536606  0.05076339\n",
      " 0.53932772 0.05335009 0.25179049 0.5352331  0.15509692 0.08857884\n",
      " 0.06379098 0.04369941 0.04466288 0.06638551 0.04742583 0.04132484\n",
      " 0.04017168 0.05834825 0.06537692 0.03606237 0.05920174 0.06396872\n",
      " 0.06430803 0.04575313 0.05332839 0.08097299 0.07631287 0.05464461\n",
      " 0.03747008 0.06192517 0.08617564 0.79390235 0.07444188 0.04802552\n",
      " 0.04360011 0.04318557 0.08828481 0.11989403 0.04925251 0.05827712\n",
      " 0.09872961 0.04483154 0.16098115 0.72318407 0.07610654 0.03893306\n",
      " 0.05125618 0.0636944  0.06056461 0.04168294 0.05590982 0.07446527\n",
      " 0.0640042  0.06417643 0.13057929 0.04651308 0.05574644 0.05330719\n",
      " 0.14035064 0.09417533 0.58662244 0.04466288 0.20436443 0.0470765\n",
      " 0.05350209 0.03588847 0.06770374 0.05806621 0.03986474 0.55102828\n",
      " 0.05212795 0.08681654 0.04883181 0.08087969 0.09922743 0.04692224\n",
      " 0.29654411 0.05997396 0.15282339 0.04464978 0.07550408 0.04008073\n",
      " 0.03882768 0.05456666 0.05539656 0.08012377 0.09527806 0.05864555\n",
      " 0.10366533 0.08368823 0.0403983  0.03879237 0.04767017 0.05893413\n",
      " 0.11655099 0.08828481 0.0834423  0.04756039 0.04993403 0.03339355\n",
      " 0.48459028 0.09572603 0.03359312 0.04827323 0.04313868 0.05656656\n",
      " 0.04099623 0.03812058 0.46088138 0.04843449 0.05597878 0.05537557\n",
      " 0.04356507 0.1713954  0.05978801 0.102721   0.04204448 0.05740622\n",
      " 0.48990571 0.04483428 0.05480597 0.0423561  0.07010637 0.04880278\n",
      " 0.04458891 0.53290176 0.08978155 0.04050745 0.09299644 0.08893118\n",
      " 0.18225648 0.06979873 0.06522414 0.07761236 0.10759764 0.05212795\n",
      " 0.06222496 0.32173427 0.04929761 0.03622495 0.06258953 0.04613292\n",
      " 0.05532001 0.05747869 0.0530717  0.45947391 0.04464614 0.05693704\n",
      " 0.05450422 0.05649298 0.04221593 0.05225033 0.03673008 0.07064799\n",
      " 0.09096302 0.06204999 0.05123568 0.04225246 0.13147354 0.11129219\n",
      " 0.04108894 0.04639791 0.04203318 0.06201563 0.06659328 0.04164103\n",
      " 0.20124865 0.04229087 0.10282343 0.04851364 0.05659942 0.03682784\n",
      " 0.11018875 0.27819169 0.06606572 0.07424956 0.07511467 0.06452134\n",
      " 0.05438377 0.0494669  0.05024095 0.04057202 0.04507904 0.03996786\n",
      " 0.04387617 0.05616398 0.0465237  0.06433831 0.06025862 0.06495251\n",
      " 0.08227787 0.12935642 0.03368803 0.09009542 0.04183793 0.03561359\n",
      " 0.06212845 0.04108894 0.07137565 0.06791898 0.08726489 0.04708804\n",
      " 0.60566848 0.03908157 0.04867728 0.04493039 0.05657343 0.07296095\n",
      " 0.05098325 0.1613815  0.04187764 0.04472602 0.0724073  0.05072383\n",
      " 0.05190678 0.06951196 0.36001185 0.11635042 0.11480235 0.06477243\n",
      " 0.0441089  0.06462885 0.05840073 0.03430292 0.04323152 0.03303193\n",
      " 0.22267404 0.23430043 0.37882709 0.06192137 0.42577165 0.05221777\n",
      " 0.04776487 0.05091667 0.05377688 0.11966982 0.10483306 0.51311175\n",
      " 0.09695829 0.07225195 0.05600767 0.06724871 0.67426415 0.05231379\n",
      " 0.06576183 0.04429633 0.0568885  0.03788248 0.13479026 0.06381156\n",
      " 0.05049545 0.04930012 0.04673884 0.03862217 0.04681532 0.04688169\n",
      " 0.04041493 0.05463756 0.06036584 0.05865897 0.06113482 0.06272655\n",
      " 0.0670786  0.07361776 0.31375763 0.04888524 0.04068967 0.08708508\n",
      " 0.04609907 0.04140146 0.38011682 0.0565957  0.05237857 0.4509919\n",
      " 0.09569103 0.07811063 0.03272626 0.05245082 0.07272237 0.05067972\n",
      " 0.13273157 0.22806721 0.04183975 0.15233278 0.05029317 0.05100626\n",
      " 0.050104   0.0529596  0.13443087 0.05396398 0.0636983  0.0438826\n",
      " 0.06996068 0.05561347 0.73138918 0.09782222 0.05180685 0.06822151\n",
      " 0.06266168 0.05124999 0.05121038 0.44696616 0.0554988  0.08702497\n",
      " 0.39558931 0.03769101 0.04481931 0.04560374 0.04592161 0.05285685\n",
      " 0.05724826 0.09076796 0.05318748 0.04265252 0.04567286 0.40251377\n",
      " 0.05615213 0.06642535 0.0743948  0.03669045 0.21186552 0.05277412\n",
      " 0.06578329 0.06452134 0.11418715 0.75587484 0.12948331 0.11290891\n",
      " 0.04213561 0.04287478 0.06860015 0.15816773 0.05418158 0.0431538\n",
      " 0.05249137 0.08583624 0.07007624 0.05200096 0.04355708 0.05320419\n",
      " 0.55788891 0.05327472 0.04084201 0.08310433 0.06696376 0.04149477\n",
      " 0.14229393 0.04057629 0.05083707 0.07579198 0.05061588 0.0543795\n",
      " 0.70963452 0.04887134 0.0630125  0.03775863 0.0376106  0.17589845\n",
      " 0.07420063 0.05634643 0.0613727  0.06877354 0.07986134 0.06356741\n",
      " 0.04973663 0.05919358 0.04976828 0.05379197 0.06311417 0.06026741\n",
      " 0.05006691 0.67023268 0.04595447 0.04423329 0.07216738 0.07444188\n",
      " 0.04102549 0.08612968 0.04330693 0.53050434 0.03697708 0.03833249\n",
      " 0.04841869 0.05436594 0.06868488 0.0351213  0.06471173 0.04826194\n",
      " 0.09686559 0.04085821 0.15502565 0.06674696 0.09441068 0.07591541\n",
      " 0.05016475 0.06901544 0.14229393 0.06893442 0.05925453 0.04743666\n",
      " 0.1145712  0.04261247 0.03930988 0.42472912 0.13793726 0.55974076\n",
      " 0.03564783 0.05201553 0.5938101  0.5777958  0.07459377 0.03513127\n",
      " 0.04929761 0.07154626 0.06061343 0.05629017 0.06791898 0.07431967\n",
      " 0.05147413 0.05158776 0.0569048  0.06514338 0.05606743 0.03416141\n",
      " 0.05414938 0.06818588 0.58716143 0.12757391 0.14317112 0.04829341\n",
      " 0.05155558 0.0513107  0.0519283  0.04527045 0.49332433 0.04164103\n",
      " 0.08400582 0.03431686 0.58716143 0.04280774 0.03955175 0.04187178\n",
      " 0.04480913 0.03799303 0.10614987 0.09373683 0.63524022 0.14122466\n",
      " 0.0563793  0.06434628 0.04188933 0.05864555 0.06896369 0.0489866\n",
      " 0.12107034 0.05036659 0.07567196 0.13863035 0.84775184 0.04617358\n",
      " 0.08678683 0.04803896 0.04424591 0.08161536 0.05418158 0.05591212\n",
      " 0.05326133 0.0546316  0.0512688  0.1139488  0.09229298 0.04886332\n",
      " 0.15291055 0.08369751 0.32204092 0.07042056 0.04317791 0.04284999\n",
      " 0.05244916 0.04544497 0.08061887 0.13197402 0.55027165 0.13628315\n",
      " 0.09780408 0.11398496 0.07895322 0.06247384 0.04243437 0.06056881\n",
      " 0.06972327 0.04988159 0.04112157 0.32332774 0.0471813  0.03989862\n",
      " 0.03871237 0.04223946 0.07691953 0.04550149 0.05516216 0.04360011\n",
      " 0.16760922 0.04611531 0.07968903 0.09481869 0.08168587 0.04926282\n",
      " 0.05706374 0.04665806 0.04291948 0.04743643 0.04920573 0.08422909\n",
      " 0.06504618 0.07341671 0.05858104 0.06266168 0.04012564 0.10722428\n",
      " 0.14398343 0.05911758 0.04714365 0.37415705 0.03619984 0.44614262\n",
      " 0.05038785 0.05373463 0.27401939 0.04152295 0.04735874 0.15153652\n",
      " 0.05615213 0.11913142 0.13867788 0.06550395 0.43149074 0.07294345\n",
      " 0.09822369 0.05375003 0.04142916 0.05922365 0.05143706 0.17447365\n",
      " 0.04474507 0.05143706 0.07187803 0.05142537 0.0478168  0.07294799\n",
      " 0.04834328 0.93924454 0.07590569 0.17267195 0.03456084 0.55726525\n",
      " 0.05218158 0.05968453 0.0855204  0.03811799 0.05704067 0.06573675\n",
      " 0.04593477 0.0482858  0.21328401 0.03716585 0.14952154 0.07294661\n",
      " 0.13819779 0.06559362 0.05487731 0.03844982 0.05100626 0.08082879\n",
      " 0.6411839  0.06643872 0.05373452 0.06063907 0.06760862 0.0416578\n",
      " 0.06332506 0.04870754 0.06176121 0.06613472 0.0505013  0.06298249\n",
      " 0.04893913 0.04354115 0.04536754 0.06042599 0.05433888 0.42344195\n",
      " 0.53314489 0.65886722 0.04798154 0.58836506 0.05200832 0.04604533\n",
      " 0.05964357 0.04503326 0.05878026 0.04265306 0.29367603 0.46397658\n",
      " 0.48205419 0.05492258 0.12025185 0.03234672 0.03085253 0.03954055\n",
      " 0.0734759  0.06248308 0.05398429 0.48640214 0.12331253 0.0388654\n",
      " 0.05234004 0.1362865  0.04239152 0.09989134 0.04272349 0.04324301\n",
      " 0.06019028 0.383828   0.04803517 0.23980977 0.26461956 0.21587229\n",
      " 0.06439335 0.04118344 0.11001538 0.12496221 0.09914492 0.14281932\n",
      " 0.04310109 0.04229087 0.06339663 0.05566504 0.09541155 0.05750134\n",
      " 0.04604324 0.03617624 0.05775412 0.06186581 0.14087306 0.03674889\n",
      " 0.0444255  0.06517932 0.06704878 0.06942269 0.03474515 0.05623377\n",
      " 0.08461652 0.08453036 0.09493631 0.04314958 0.04894667 0.03429295\n",
      " 0.06287718 0.05488931 0.05875864 0.09057604 0.07591541 0.08289203\n",
      " 0.05844994 0.06297843 0.14762165 0.06763504 0.11480235 1.\n",
      " 0.5551453  0.05743374 0.05066706 0.06023636 0.04588549 0.05788827\n",
      " 0.04023258 0.12265253 0.07035016 0.55563143 0.04323456 0.05231379\n",
      " 0.04865325 0.05248254 0.07911975 0.08335049 0.10056167 0.12160703\n",
      " 0.04912061 0.07374192 0.55451731 0.04340206]\n"
     ]
    }
   ],
   "execution_count": 138
  },
  {
   "metadata": {
    "ExecuteTime": {
     "end_time": "2024-10-03T07:14:36.266Z",
     "start_time": "2024-10-03T07:14:36.257589Z"
    }
   },
   "cell_type": "code",
   "source": "gamma.cdf(newArr[26],fit_alpha, fit_loc, fit_beta)",
   "id": "6fd84506464b2a25",
   "outputs": [
    {
     "data": {
      "text/plain": [
       "np.float64(0.9968243307546394)"
      ]
     },
     "execution_count": 139,
     "metadata": {},
     "output_type": "execute_result"
    }
   ],
   "execution_count": 139
  },
  {
   "metadata": {
    "ExecuteTime": {
     "end_time": "2024-10-03T07:14:36.489499Z",
     "start_time": "2024-10-03T07:14:36.402776Z"
    }
   },
   "cell_type": "code",
   "source": [
    "count = 0\n",
    "outliers = []\n",
    "for x in range(newArr.shape[0]):\n",
    "    hol = gamma.cdf(newArr[x], fit_alpha, fit_loc, fit_beta)\n",
    "    if hol > .95:\n",
    "        outliers.append(x)\n",
    "    \n",
    "    count += 1\n",
    "\n",
    "print(count,outliers)"
   ],
   "id": "200ca327265e6f2c",
   "outputs": [
    {
     "name": "stdout",
     "output_type": "stream",
     "text": [
      "1000 [3, 10, 23, 26, 28, 44, 48, 65, 82, 103, 120, 127, 141, 204, 228, 244, 270, 279, 282, 289, 312, 315, 339, 351, 368, 377, 384, 408, 416, 426, 433, 445, 453, 510, 524, 536, 538, 545, 550, 572, 578, 581, 602, 609, 612, 623, 633, 648, 660, 679, 687, 711, 713, 716, 717, 734, 742, 746, 754, 766, 782, 790, 801, 831, 833, 844, 859, 863, 882, 899, 900, 901, 903, 910, 911, 912, 921, 931, 977, 978, 987, 998]\n"
     ]
    }
   ],
   "execution_count": 140
  },
  {
   "metadata": {
    "ExecuteTime": {
     "end_time": "2024-10-03T07:14:36.580687Z",
     "start_time": "2024-10-03T07:14:36.574891Z"
    }
   },
   "cell_type": "code",
   "source": [
    "newOutliers = []\n",
    "for z in outliers:\n",
    "    newOutliers += [X[z]]"
   ],
   "id": "eb35997aad629d2",
   "outputs": [],
   "execution_count": 141
  },
  {
   "metadata": {
    "ExecuteTime": {
     "end_time": "2024-10-03T07:14:36.644823Z",
     "start_time": "2024-10-03T07:14:36.640687Z"
    }
   },
   "cell_type": "code",
   "source": [
    "newOutliers = np.array(newOutliers)\n",
    "print(newOutliers)"
   ],
   "id": "95d78d4b89caa630",
   "outputs": [
    {
     "name": "stdout",
     "output_type": "stream",
     "text": [
      "[[0.05387244 0.81749931]\n",
      " [0.0411154  0.30481349]\n",
      " [0.25450516 0.44092021]\n",
      " [0.95015164 0.29855145]\n",
      " [0.67798253 0.10952313]\n",
      " [0.40395313 0.77649238]\n",
      " [0.35230415 0.06913662]\n",
      " [0.09406827 0.71862799]\n",
      " [0.62974824 0.38431409]\n",
      " [0.30207977 0.52614752]\n",
      " [0.52365849 0.96455273]\n",
      " [0.25080783 0.32019419]\n",
      " [0.65601374 0.37658891]\n",
      " [0.11758099 0.99721148]\n",
      " [0.5862971  0.99690603]\n",
      " [0.66106943 0.05987371]\n",
      " [0.62294266 0.75742625]\n",
      " [0.23922925 0.78278315]\n",
      " [0.63427995 0.22630106]\n",
      " [0.79083187 0.22936609]\n",
      " [0.44148001 0.11567543]\n",
      " [0.10452004 0.56044401]\n",
      " [0.21136834 0.97376456]\n",
      " [0.42326468 0.75434989]\n",
      " [0.61260586 0.30621872]\n",
      " [0.20351433 0.53446788]\n",
      " [0.63773931 0.4624992 ]\n",
      " [0.2147573  0.74150646]\n",
      " [0.27808274 0.38134307]\n",
      " [0.57275099 0.33406639]\n",
      " [0.41780775 0.06321893]\n",
      " [0.1825997  0.28018896]\n",
      " [0.16089571 0.37318718]\n",
      " [0.42960603 0.47535593]\n",
      " [0.21693598 0.3411642 ]\n",
      " [0.79797523 0.36469689]\n",
      " [0.39422585 0.11723738]\n",
      " [0.92533356 0.300121  ]\n",
      " [0.46148204 0.052933  ]\n",
      " [0.63357465 0.90946783]\n",
      " [0.60586657 0.5187897 ]\n",
      " [0.00449169 0.27684684]\n",
      " [0.45209695 0.94076334]\n",
      " [0.2128357  0.71434743]\n",
      " [0.12043165 0.75691696]\n",
      " [0.10831702 0.65699705]\n",
      " [0.95988893 0.21008051]\n",
      " [0.43760613 0.17257381]\n",
      " [0.32914814 0.73458152]\n",
      " [0.44276212 0.2695844 ]\n",
      " [0.24153007 0.51472363]\n",
      " [0.08772895 0.72752753]\n",
      " [0.68928542 0.29036188]\n",
      " [0.2617354  0.83737066]\n",
      " [0.08688185 0.85633185]\n",
      " [0.28561353 0.61599279]\n",
      " [0.30792337 0.35531477]\n",
      " [0.37303045 0.46565067]\n",
      " [0.04476256 0.46063628]\n",
      " [0.40947002 0.97248061]\n",
      " [0.1926418  0.29085551]\n",
      " [0.0189338  0.70818814]\n",
      " [0.63971761 0.84027016]\n",
      " [0.63131515 0.61010346]\n",
      " [0.59808731 0.42240055]\n",
      " [0.59311594 0.47413773]\n",
      " [0.93743616 0.09168641]\n",
      " [0.04158862 0.65290252]\n",
      " [0.42274113 0.31037026]\n",
      " [0.07451451 0.33299316]\n",
      " [0.01431467 0.32584924]\n",
      " [0.90021336 0.21592165]\n",
      " [0.92294741 0.25345779]\n",
      " [1.         0.47537399]\n",
      " [0.17027301 0.37468173]\n",
      " [0.08848442 0.64418818]\n",
      " [0.03701572 0.31684673]\n",
      " [0.66286537 0.75580185]\n",
      " [0.904327   0.00593116]\n",
      " [0.16115301 0.87465   ]\n",
      " [0.25484708 0.51585791]\n",
      " [0.03214812 0.65470178]]\n"
     ]
    }
   ],
   "execution_count": 142
  },
  {
   "metadata": {
    "ExecuteTime": {
     "end_time": "2024-10-03T07:14:36.783940Z",
     "start_time": "2024-10-03T07:14:36.692079Z"
    }
   },
   "cell_type": "code",
   "source": [
    "plt.scatter(X[:,0],X[:,1])\n",
    "plt.scatter(newOutliers[:,0],newOutliers[:,1])\n",
    "plt.show()"
   ],
   "id": "821e8b4c27624410",
   "outputs": [
    {
     "data": {
      "text/plain": [
       "<Figure size 1500x700 with 1 Axes>"
      ],
      "image/png": "[encoded data removed]"
     },
     "metadata": {},
     "output_type": "display_data"
    }
   ],
   "execution_count": 143
  },
  {
   "metadata": {
    "ExecuteTime": {
     "end_time": "2024-10-03T08:09:53.058818Z",
     "start_time": "2024-10-03T08:09:53.055252Z"
    }
   },
   "cell_type": "code",
   "source": [
    "root = 0\n",
    "for t in outliers:\n",
    "    if y[t] == 1:\n",
    "        root += 1\n",
    "\n",
    "print(root,len(outliers))"
   ],
   "id": "7696697d3a7fee6f",
   "outputs": [
    {
     "name": "stdout",
     "output_type": "stream",
     "text": [
      "80 82\n"
     ]
    }
   ],
   "execution_count": 145
  },
  {
   "metadata": {
    "ExecuteTime": {
     "end_time": "2024-10-03T07:14:36.854079Z",
     "start_time": "2024-10-03T07:14:36.851480Z"
    }
   },
   "cell_type": "code",
   "source": "",
   "id": "afe21e3366ed5b59",
   "outputs": [],
   "execution_count": null
  }
 ],
 "metadata": {
  "kernelspec": {
   "display_name": "Python 3",
   "language": "python",
   "name": "python3"
  },
  "language_info": {
   "codemirror_mode": {
    "name": "ipython",
    "version": 2
   },
   "file_extension": ".py",
   "mimetype": "text/x-python",
   "name": "python",
   "nbconvert_exporter": "python",
   "pygments_lexer": "ipython2",
   "version": "2.7.6"
  }
 },
 "nbformat": 4,
 "nbformat_minor": 5
}
