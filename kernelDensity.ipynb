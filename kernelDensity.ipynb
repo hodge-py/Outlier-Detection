{
 "cells": [
  {
   "cell_type": "code",
   "id": "initial_id",
   "metadata": {
    "collapsed": true,
    "ExecuteTime": {
     "end_time": "2024-09-23T17:32:49.916540Z",
     "start_time": "2024-09-23T17:32:44.624195Z"
    }
   },
   "source": [
    "import numpy as np\n",
    "from sklearn.neighbors import NearestNeighbors,KernelDensity\n",
    "import matplotlib.pyplot as plt\n",
    "from sklearn.datasets import make_blobs\n",
    "import pandas as pd\n",
    "from scipy import stats\n",
    "from sklearn.preprocessing import LabelEncoder\n",
    "from statsmodels.stats.stattools import medcouple\n",
    "\n",
    "plt.rcParams['figure.figsize'] = [15, 7]"
   ],
   "outputs": [],
   "execution_count": 2
  },
  {
   "metadata": {
    "ExecuteTime": {
     "end_time": "2024-09-23T17:32:49.980680Z",
     "start_time": "2024-09-23T17:32:49.944797Z"
    }
   },
   "cell_type": "code",
   "source": [
    "df = pd.read_csv(\"./outlierDatasets/synthetic.csv\")\n",
    "df.head()"
   ],
   "id": "d9d8a08b0789320e",
   "outputs": [
    {
     "data": {
      "text/plain": [
       "          0         1         2         3         4         5         6  \\\n",
       "0  0.435518  0.038492  0.551343  0.140049  0.899545  0.588684  0.299706   \n",
       "1  0.633197  0.034490  0.319406  0.879141  0.163079  0.184356  0.160583   \n",
       "2  0.421558  0.299824  0.602220  0.521654  0.954621  0.547448  0.882898   \n",
       "3  0.817491  0.647528  0.046214  0.487270  0.053872  0.817499  0.390589   \n",
       "4  0.291513  0.474018  0.065267  0.410573  0.903696  0.466520  0.196878   \n",
       "\n",
       "          7         8         9 outlier  \n",
       "0  0.245713  0.367375  0.452970      no  \n",
       "1  0.104973  0.294980  0.429709      no  \n",
       "2  0.586641  0.840204  0.212529      no  \n",
       "3  0.394750  0.736854  0.442689     yes  \n",
       "4  0.165370  0.297764  0.467911      no  "
      ],
      "text/html": [
       "<div>\n",
       "<style scoped>\n",
       "    .dataframe tbody tr th:only-of-type {\n",
       "        vertical-align: middle;\n",
       "    }\n",
       "\n",
       "    .dataframe tbody tr th {\n",
       "        vertical-align: top;\n",
       "    }\n",
       "\n",
       "    .dataframe thead th {\n",
       "        text-align: right;\n",
       "    }\n",
       "</style>\n",
       "<table border=\"1\" class=\"dataframe\">\n",
       "  <thead>\n",
       "    <tr style=\"text-align: right;\">\n",
       "      <th></th>\n",
       "      <th>0</th>\n",
       "      <th>1</th>\n",
       "      <th>2</th>\n",
       "      <th>3</th>\n",
       "      <th>4</th>\n",
       "      <th>5</th>\n",
       "      <th>6</th>\n",
       "      <th>7</th>\n",
       "      <th>8</th>\n",
       "      <th>9</th>\n",
       "      <th>outlier</th>\n",
       "    </tr>\n",
       "  </thead>\n",
       "  <tbody>\n",
       "    <tr>\n",
       "      <th>0</th>\n",
       "      <td>0.435518</td>\n",
       "      <td>0.038492</td>\n",
       "      <td>0.551343</td>\n",
       "      <td>0.140049</td>\n",
       "      <td>0.899545</td>\n",
       "      <td>0.588684</td>\n",
       "      <td>0.299706</td>\n",
       "      <td>0.245713</td>\n",
       "      <td>0.367375</td>\n",
       "      <td>0.452970</td>\n",
       "      <td>no</td>\n",
       "    </tr>\n",
       "    <tr>\n",
       "      <th>1</th>\n",
       "      <td>0.633197</td>\n",
       "      <td>0.034490</td>\n",
       "      <td>0.319406</td>\n",
       "      <td>0.879141</td>\n",
       "      <td>0.163079</td>\n",
       "      <td>0.184356</td>\n",
       "      <td>0.160583</td>\n",
       "      <td>0.104973</td>\n",
       "      <td>0.294980</td>\n",
       "      <td>0.429709</td>\n",
       "      <td>no</td>\n",
       "    </tr>\n",
       "    <tr>\n",
       "      <th>2</th>\n",
       "      <td>0.421558</td>\n",
       "      <td>0.299824</td>\n",
       "      <td>0.602220</td>\n",
       "      <td>0.521654</td>\n",
       "      <td>0.954621</td>\n",
       "      <td>0.547448</td>\n",
       "      <td>0.882898</td>\n",
       "      <td>0.586641</td>\n",
       "      <td>0.840204</td>\n",
       "      <td>0.212529</td>\n",
       "      <td>no</td>\n",
       "    </tr>\n",
       "    <tr>\n",
       "      <th>3</th>\n",
       "      <td>0.817491</td>\n",
       "      <td>0.647528</td>\n",
       "      <td>0.046214</td>\n",
       "      <td>0.487270</td>\n",
       "      <td>0.053872</td>\n",
       "      <td>0.817499</td>\n",
       "      <td>0.390589</td>\n",
       "      <td>0.394750</td>\n",
       "      <td>0.736854</td>\n",
       "      <td>0.442689</td>\n",
       "      <td>yes</td>\n",
       "    </tr>\n",
       "    <tr>\n",
       "      <th>4</th>\n",
       "      <td>0.291513</td>\n",
       "      <td>0.474018</td>\n",
       "      <td>0.065267</td>\n",
       "      <td>0.410573</td>\n",
       "      <td>0.903696</td>\n",
       "      <td>0.466520</td>\n",
       "      <td>0.196878</td>\n",
       "      <td>0.165370</td>\n",
       "      <td>0.297764</td>\n",
       "      <td>0.467911</td>\n",
       "      <td>no</td>\n",
       "    </tr>\n",
       "  </tbody>\n",
       "</table>\n",
       "</div>"
      ]
     },
     "execution_count": 3,
     "metadata": {},
     "output_type": "execute_result"
    }
   ],
   "execution_count": 3
  },
  {
   "metadata": {
    "ExecuteTime": {
     "end_time": "2024-09-23T17:32:50.028364Z",
     "start_time": "2024-09-23T17:32:50.022676Z"
    }
   },
   "cell_type": "code",
   "source": [
    "X = df.iloc[:, 4:6].values\n",
    "copy_X = df.iloc[:, 2:4]\n",
    "y = df.iloc[:, -1:].values"
   ],
   "id": "8a98f63ad0823633",
   "outputs": [],
   "execution_count": 4
  },
  {
   "metadata": {
    "ExecuteTime": {
     "end_time": "2024-09-23T17:32:50.062777Z",
     "start_time": "2024-09-23T17:32:50.054262Z"
    }
   },
   "cell_type": "code",
   "source": [
    "def main(X,y,n):\n",
    "    nn = NearestNeighbors(n_neighbors=n)\n",
    "    nn.fit(X, y)\n",
    "    dist, knn = nn.kneighbors(X)  # returns N index neighbors including self\n",
    "    return knn, dist\n",
    "\n",
    "knn, distReturn = main(X,y,10)\n",
    "testDis = distReturn.reshape(1,-1)\n",
    "testDis = np.array(testDis)"
   ],
   "id": "5666340d03fe6e27",
   "outputs": [],
   "execution_count": 5
  },
  {
   "metadata": {
    "ExecuteTime": {
     "end_time": "2024-09-23T17:32:50.128371Z",
     "start_time": "2024-09-23T17:32:50.103427Z"
    }
   },
   "cell_type": "code",
   "source": [
    "def generateArr(newDist, median='median'):\n",
    "    arr = []\n",
    "    for x in newDist:  # finds the distance away from that point (index 0)\n",
    "        if median == 'median':\n",
    "            arr += [np.median(x)]\n",
    "        elif median == 'sum':  # min + median + max\n",
    "            arr += [x[1] + np.max(x) + np.median(x)]\n",
    "        elif median == 'max':\n",
    "            arr += [np.max(x)]\n",
    "        elif median == 'minMax':\n",
    "            arr += [np.max(x) + x[1]]\n",
    "        elif median == 'medMax':\n",
    "            arr += [np.median(x) + np.max(x)]\n",
    "        elif median == 'min':\n",
    "            arr += [x[1]]\n",
    "\n",
    "    return arr\n",
    "\n",
    "\n",
    "distReturn = np.array(distReturn)\n",
    "arr = generateArr(distReturn, median=\"medMax\")\n",
    "arr = np.array(arr)"
   ],
   "id": "647f04389ad2eafa",
   "outputs": [],
   "execution_count": 6
  },
  {
   "metadata": {
    "ExecuteTime": {
     "end_time": "2024-09-23T17:36:52.464892Z",
     "start_time": "2024-09-23T17:36:52.431158Z"
    }
   },
   "cell_type": "code",
   "source": [
    "gkde_obj = stats.gaussian_kde(arr)\n",
    "x_pts = np.linspace(-.01,.95,500)\n",
    "pdf = gkde_obj.evaluate(x_pts)"
   ],
   "id": "e9028c1f11e38b0b",
   "outputs": [],
   "execution_count": 15
  },
  {
   "metadata": {
    "ExecuteTime": {
     "end_time": "2024-09-23T17:32:51.880473Z",
     "start_time": "2024-09-23T17:32:50.259852Z"
    }
   },
   "cell_type": "code",
   "source": [
    "y_normal = stats.norm.pdf(x_pts)\n",
    "plt.figure()\n",
    "plt.hist(arr,bins=2000)\n",
    "plt.plot(x_pts, pdf)"
   ],
   "id": "ee71e5accf752db0",
   "outputs": [
    {
     "data": {
      "text/plain": [
       "[<matplotlib.lines.Line2D at 0x2d9175af850>]"
      ]
     },
     "execution_count": 8,
     "metadata": {},
     "output_type": "execute_result"
    },
    {
     "data": {
      "text/plain": [
       "<Figure size 1500x700 with 1 Axes>"
      ],
      "image/png": "[encoded data removed]"
     },
     "metadata": {},
     "output_type": "display_data"
    }
   ],
   "execution_count": 8
  },
  {
   "metadata": {
    "ExecuteTime": {
     "end_time": "2024-09-23T17:32:51.917977Z",
     "start_time": "2024-09-23T17:32:51.915692Z"
    }
   },
   "cell_type": "code",
   "source": "",
   "id": "9eb87e0d1136ffc4",
   "outputs": [],
   "execution_count": null
  },
  {
   "metadata": {
    "ExecuteTime": {
     "end_time": "2024-09-23T17:32:51.927326Z",
     "start_time": "2024-09-23T17:32:51.924509Z"
    }
   },
   "cell_type": "code",
   "source": "",
   "id": "efb6acf30910c61d",
   "outputs": [],
   "execution_count": null
  }
 ],
 "metadata": {
  "kernelspec": {
   "display_name": "Python 3",
   "language": "python",
   "name": "python3"
  },
  "language_info": {
   "codemirror_mode": {
    "name": "ipython",
    "version": 2
   },
   "file_extension": ".py",
   "mimetype": "text/x-python",
   "name": "python",
   "nbconvert_exporter": "python",
   "pygments_lexer": "ipython2",
   "version": "2.7.6"
  }
 },
 "nbformat": 4,
 "nbformat_minor": 5
}
