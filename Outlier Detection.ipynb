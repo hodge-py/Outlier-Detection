{
 "cells": [
  {
   "metadata": {},
   "cell_type": "markdown",
   "source": [
    "# Import list\n",
    "project uses, numpy, scikit-learn, matplotlib, and pandas. The rcParams function sets the graph size"
   ],
   "id": "7858e2cb400f2e4a"
  },
  {
   "cell_type": "code",
   "id": "initial_id",
   "metadata": {
    "collapsed": true,
    "ExecuteTime": {
     "end_time": "2024-09-11T05:15:01.735684Z",
     "start_time": "2024-09-11T05:15:01.732590Z"
    }
   },
   "source": [
    "from operator import index\n",
    "\n",
    "import numpy as np\n",
    "from sklearn.neighbors import NearestNeighbors\n",
    "import matplotlib.pyplot as plt\n",
    "from sklearn.datasets import make_blobs\n",
    "import pandas as pd\n",
    "from sklearn.preprocessing import LabelEncoder\n",
    "from sklearn.cluster import KMeans\n",
    "from mat4py import loadmat\n",
    "plt.rcParams['figure.figsize'] = [15, 7]"
   ],
   "outputs": [],
   "execution_count": 182
  },
  {
   "metadata": {},
   "cell_type": "markdown",
   "source": "Read the csv file and drops any non-available values. We then select a dimension of two for X and use the species as the y.",
   "id": "d13e2cd8d7e5c8dc"
  },
  {
   "metadata": {
    "ExecuteTime": {
     "end_time": "2024-09-11T05:15:01.767758Z",
     "start_time": "2024-09-11T05:15:01.755735Z"
    }
   },
   "cell_type": "code",
   "source": [
    "df = pd.read_csv(\"./outlierDatasets/Glass_withoutdupl_norm.csv\")\n",
    "df.head()"
   ],
   "id": "1f94671d8820705b",
   "outputs": [
    {
     "data": {
      "text/plain": [
       "   'var_0000'  'var_0001'  'var_0002'  'var_0003'  'var_0004'  'var_0005'  \\\n",
       "0    0.467651    0.321584    0.768880    0.246630    0.838799    0.099737   \n",
       "1    0.496412    0.220491    0.776032    0.316598    0.919973    0.089145   \n",
       "2    0.519133    0.404464    0.768012    0.334978    0.801622    0.092369   \n",
       "3    0.199650    0.547373    0.374284    0.362223    0.817017    0.000000   \n",
       "4    0.847261    0.286361    0.000000    0.217792    0.000000    0.019135   \n",
       "\n",
       "   'var_0006'  'id' 'outlier'  \n",
       "0    0.298340   1.0      'no'  \n",
       "1    0.279479   2.0      'no'  \n",
       "2    0.271238   3.0      'no'  \n",
       "3    0.177913   4.0     'yes'  \n",
       "4    1.000000   5.0      'no'  "
      ],
      "text/html": [
       "<div>\n",
       "<style scoped>\n",
       "    .dataframe tbody tr th:only-of-type {\n",
       "        vertical-align: middle;\n",
       "    }\n",
       "\n",
       "    .dataframe tbody tr th {\n",
       "        vertical-align: top;\n",
       "    }\n",
       "\n",
       "    .dataframe thead th {\n",
       "        text-align: right;\n",
       "    }\n",
       "</style>\n",
       "<table border=\"1\" class=\"dataframe\">\n",
       "  <thead>\n",
       "    <tr style=\"text-align: right;\">\n",
       "      <th></th>\n",
       "      <th>'var_0000'</th>\n",
       "      <th>'var_0001'</th>\n",
       "      <th>'var_0002'</th>\n",
       "      <th>'var_0003'</th>\n",
       "      <th>'var_0004'</th>\n",
       "      <th>'var_0005'</th>\n",
       "      <th>'var_0006'</th>\n",
       "      <th>'id'</th>\n",
       "      <th>'outlier'</th>\n",
       "    </tr>\n",
       "  </thead>\n",
       "  <tbody>\n",
       "    <tr>\n",
       "      <th>0</th>\n",
       "      <td>0.467651</td>\n",
       "      <td>0.321584</td>\n",
       "      <td>0.768880</td>\n",
       "      <td>0.246630</td>\n",
       "      <td>0.838799</td>\n",
       "      <td>0.099737</td>\n",
       "      <td>0.298340</td>\n",
       "      <td>1.0</td>\n",
       "      <td>'no'</td>\n",
       "    </tr>\n",
       "    <tr>\n",
       "      <th>1</th>\n",
       "      <td>0.496412</td>\n",
       "      <td>0.220491</td>\n",
       "      <td>0.776032</td>\n",
       "      <td>0.316598</td>\n",
       "      <td>0.919973</td>\n",
       "      <td>0.089145</td>\n",
       "      <td>0.279479</td>\n",
       "      <td>2.0</td>\n",
       "      <td>'no'</td>\n",
       "    </tr>\n",
       "    <tr>\n",
       "      <th>2</th>\n",
       "      <td>0.519133</td>\n",
       "      <td>0.404464</td>\n",
       "      <td>0.768012</td>\n",
       "      <td>0.334978</td>\n",
       "      <td>0.801622</td>\n",
       "      <td>0.092369</td>\n",
       "      <td>0.271238</td>\n",
       "      <td>3.0</td>\n",
       "      <td>'no'</td>\n",
       "    </tr>\n",
       "    <tr>\n",
       "      <th>3</th>\n",
       "      <td>0.199650</td>\n",
       "      <td>0.547373</td>\n",
       "      <td>0.374284</td>\n",
       "      <td>0.362223</td>\n",
       "      <td>0.817017</td>\n",
       "      <td>0.000000</td>\n",
       "      <td>0.177913</td>\n",
       "      <td>4.0</td>\n",
       "      <td>'yes'</td>\n",
       "    </tr>\n",
       "    <tr>\n",
       "      <th>4</th>\n",
       "      <td>0.847261</td>\n",
       "      <td>0.286361</td>\n",
       "      <td>0.000000</td>\n",
       "      <td>0.217792</td>\n",
       "      <td>0.000000</td>\n",
       "      <td>0.019135</td>\n",
       "      <td>1.000000</td>\n",
       "      <td>5.0</td>\n",
       "      <td>'no'</td>\n",
       "    </tr>\n",
       "  </tbody>\n",
       "</table>\n",
       "</div>"
      ]
     },
     "execution_count": 183,
     "metadata": {},
     "output_type": "execute_result"
    }
   ],
   "execution_count": 183
  },
  {
   "metadata": {
    "ExecuteTime": {
     "end_time": "2024-09-11T05:15:01.833036Z",
     "start_time": "2024-09-11T05:15:01.829391Z"
    }
   },
   "cell_type": "code",
   "source": [
    "X = df.iloc[:, 0:2].values\n",
    "copy_X = df.iloc[:, 2:4]\n",
    "y = df.iloc[:, -1:].values"
   ],
   "id": "1175e0d2b1702f90",
   "outputs": [],
   "execution_count": 184
  },
  {
   "metadata": {
    "ExecuteTime": {
     "end_time": "2024-09-11T05:15:01.879995Z",
     "start_time": "2024-09-11T05:15:01.875561Z"
    }
   },
   "cell_type": "code",
   "source": [
    "le = LabelEncoder()\n",
    "y = le.fit_transform(y)"
   ],
   "id": "ffabfe7e5f3d2295",
   "outputs": [
    {
     "name": "stderr",
     "output_type": "stream",
     "text": [
      "C:\\Users\\khodg\\AppData\\Local\\Programs\\Python\\Python311\\Lib\\site-packages\\sklearn\\preprocessing\\_label.py:114: DataConversionWarning: A column-vector y was passed when a 1d array was expected. Please change the shape of y to (n_samples, ), for example using ravel().\n",
      "  y = column_or_1d(y, warn=True)\n"
     ]
    }
   ],
   "execution_count": 185
  },
  {
   "metadata": {},
   "cell_type": "markdown",
   "source": "```main()``` chooses a nearest neighbor size and then fits X and y. After both the index of the neighbors and distances are returned. We will mainly be using the Euclidean distances.",
   "id": "bbeab10749f70905"
  },
  {
   "metadata": {
    "ExecuteTime": {
     "end_time": "2024-09-11T05:15:01.993822Z",
     "start_time": "2024-09-11T05:15:01.988808Z"
    }
   },
   "cell_type": "code",
   "source": [
    "def main(X,y,n):\n",
    "    nn = NearestNeighbors(n_neighbors=n)\n",
    "    nn.fit(X, y)\n",
    "    dist, knn = nn.kneighbors(X)  # returns N index neighbors including self\n",
    "    return knn, dist\n",
    "\n",
    "knn, distReturn = main(X,y,10)"
   ],
   "id": "e7bab27fd39b9d0",
   "outputs": [],
   "execution_count": 186
  },
  {
   "metadata": {},
   "cell_type": "markdown",
   "source": "We need the total distance for each element in the list. This is done by adding all the values found in the dist array returned from the ```main()```",
   "id": "d28b595354b26f91"
  },
  {
   "metadata": {
    "ExecuteTime": {
     "end_time": "2024-09-11T05:16:18.489491Z",
     "start_time": "2024-09-11T05:16:18.481991Z"
    }
   },
   "cell_type": "code",
   "source": [
    "def generateArr(newDist):\n",
    "    arr = []\n",
    "    for x in range(newDist.shape[0]):  # finds the distance away from that point (index 0)\n",
    "        #arr += [np.max(newDist[x])]\n",
    "        arr += [np.median(newDist[x])]\n",
    "\n",
    "    return arr\n",
    "\n",
    "distReturn = np.array(distReturn)\n",
    "arr = generateArr(distReturn)"
   ],
   "id": "30a40ee79ff92de1",
   "outputs": [],
   "execution_count": 195
  },
  {
   "metadata": {},
   "cell_type": "markdown",
   "source": [
    "### Equation (6)\n",
    "Total distance for each index is now stored in a array so we use equation 6 from the paper to determine if the value is outside the boxplot. If so, the value is added to the outliers array"
   ],
   "id": "ace8840201e1f0be"
  },
  {
   "metadata": {
    "ExecuteTime": {
     "end_time": "2024-09-11T05:18:25.364266Z",
     "start_time": "2024-09-11T05:18:25.359082Z"
    }
   },
   "cell_type": "code",
   "source": [
    "# equation upper = q3 + 1.5 * (q3-q2)\n",
    "# equation lower = q1 - 1.5 * (q2-q1)\n",
    "def boxplot(distO,X):\n",
    "        outliers = []\n",
    "        indexOutliers = []\n",
    "        percent = np.quantile(distO, [.25, .50, .75])\n",
    "\n",
    "        upperL = percent[2] + 1.5 * (percent[1] - percent[0])\n",
    "        lowerL = percent[0] - 1.5 * (percent[2] - percent[1])\n",
    "\n",
    "        for x in range(distO.shape[0]):\n",
    "            if distO[x] > upperL:\n",
    "                outliers += [X[x]]\n",
    "                indexOutliers += [x]\n",
    "            elif distO[x] < lowerL:\n",
    "                outliers += [X[x]]\n",
    "                indexOutliers += [x]\n",
    "        \n",
    "        return outliers, indexOutliers\n",
    "\n",
    "arr = np.array(arr)\n",
    "outliers, indexOutliers = boxplot(arr,X)"
   ],
   "id": "708f333da664db96",
   "outputs": [],
   "execution_count": 201
  },
  {
   "metadata": {},
   "cell_type": "markdown",
   "source": [
    "```printer()```\n",
    "transforms the outliers into a numpy array and then plots them against the two X dimensions. y is used to show each color of species. Green is the outlier color"
   ],
   "id": "6919b3c89651d356"
  },
  {
   "metadata": {
    "ExecuteTime": {
     "end_time": "2024-09-11T05:16:21.384833Z",
     "start_time": "2024-09-11T05:16:21.243321Z"
    }
   },
   "cell_type": "code",
   "source": [
    "def printer(distO,X,y,outliers):\n",
    "    outliers = np.array(outliers)\n",
    "    plt.subplot(1, 3, 1)\n",
    "    plt.scatter(X[:, 0], X[:, 1])\n",
    "    plt.scatter(outliers[:, 0], outliers[:, 1], c=\"red\")\n",
    "    plt.subplot(1, 3, 2)\n",
    "    #plt.hist(self.X[:,0],bins=15)\n",
    "    plt.boxplot(distO, vert=True)\n",
    "    plt.show()\n",
    "\n",
    "printer(arr,X,y,outliers)\n",
    "print(outliers)"
   ],
   "id": "104a847baf450b20",
   "outputs": [
    {
     "data": {
      "text/plain": [
       "<Figure size 1500x700 with 2 Axes>"
      ],
      "image/png": "[encoded data removed]"
     },
     "metadata": {},
     "output_type": "display_data"
    },
    {
     "name": "stdout",
     "output_type": "stream",
     "text": [
      "[array([0.496412, 0.220491]), array([0.19965 , 0.547373]), array([0.847261, 0.286361]), array([0.402394, 0.208305]), array([0.584255, 0.102349]), array([0., 1.]), array([0.535383, 0.59436 ]), array([0.919403, 0.634166]), array([0.842054, 0.756316]), array([0.388054, 0.494373]), array([1.      , 0.037905]), array([0.516975, 0.619801]), array([0.478837, 0.701692]), array([0.50466 , 0.111252]), array([0.57363 , 0.302251]), array([0.306407, 0.644273]), array([0.818648, 0.913613]), array([0.803255, 0.435965]), array([0.336627, 0.267673]), array([0.354991, 0.269955]), array([0.731809, 0.642906]), array([0.214517, 0.427859]), array([0.376755, 0.245856]), array([0.727527, 0.546425]), array([0.819126, 0.555552]), array([0.173785, 0.12446 ]), array([0.317795, 0.305727]), array([0.584472, 0.708856]), array([0.329971, 0.700944]), array([0.568988, 0.68299 ]), array([0.418806, 0.03328 ]), array([0.770829, 0.425798]), array([0.439325, 0.      ]), array([0.695235, 0.563455]), array([0.426506, 0.006813]), array([0.333872, 0.593675])]\n"
     ]
    }
   ],
   "execution_count": 197
  },
  {
   "metadata": {},
   "cell_type": "markdown",
   "source": "# Percent Correct",
   "id": "80bcfde8c7c54f54"
  },
  {
   "metadata": {
    "ExecuteTime": {
     "end_time": "2024-09-11T05:23:39.888594Z",
     "start_time": "2024-09-11T05:23:39.884329Z"
    }
   },
   "cell_type": "code",
   "source": [
    "TruePositive = 0\n",
    "FalsePositive = 0\n",
    "indexOutliers = np.array(indexOutliers)\n",
    "print(indexOutliers.size)\n",
    "for x in indexOutliers:\n",
    "    if y[x] == 1:\n",
    "        TruePositive += 1\n",
    "    if y[x] == 0:\n",
    "        FalsePositive += 1\n",
    "        \n",
    "\n",
    "print(TruePositive, FalsePositive,(TruePositive / indexOutliers.size), (FalsePositive / indexOutliers.size))"
   ],
   "id": "89a3285848f1d7af",
   "outputs": [
    {
     "name": "stdout",
     "output_type": "stream",
     "text": [
      "36\n",
      "5 31 0.1388888888888889 0.8611111111111112\n"
     ]
    }
   ],
   "execution_count": 214
  },
  {
   "metadata": {},
   "cell_type": "markdown",
   "source": [
    "### Equation (7a)\n",
    "Equation 7a follows a similar path as equation 6 other than the difference in upper and lower bounds. We use the variances of distances bigger than Q3 and less than Q1"
   ],
   "id": "419e33eaabe890ea"
  },
  {
   "metadata": {
    "ExecuteTime": {
     "end_time": "2024-09-11T05:27:38.196355Z",
     "start_time": "2024-09-11T05:27:38.190596Z"
    }
   },
   "cell_type": "code",
   "source": [
    "def boxplot7a(distO,X):\n",
    "        outliers = []\n",
    "        distO = np.array(distO)\n",
    "        percent = np.quantile(distO, [.25, .50, .75])\n",
    "\n",
    "        zU = np.sqrt(np.var(distO[distO >= percent[2]]))\n",
    "        zL = np.sqrt(np.var(distO[distO <= percent[0]]))\n",
    "        \n",
    "        upperL = percent[2] + 1.5 * zU\n",
    "        lowerL = percent[0] - 1.5 * zL\n",
    "\n",
    "        for x in range(distO.shape[0]):\n",
    "            if distO[x] > upperL:\n",
    "                outliers += [X[x]]\n",
    "            elif distO[x] < lowerL:\n",
    "                outliers += [X[x]]\n",
    "        \n",
    "        return outliers\n",
    "\n",
    "\n",
    "outliers = boxplot7a(arr,X)"
   ],
   "id": "9889333e3258b64f",
   "outputs": [],
   "execution_count": 215
  },
  {
   "metadata": {},
   "cell_type": "markdown",
   "source": "After running equation 7a, we map it to a graph and show the outliers as green",
   "id": "35dcb2c6115951a1"
  },
  {
   "metadata": {
    "ExecuteTime": {
     "end_time": "2024-09-11T05:27:39.494751Z",
     "start_time": "2024-09-11T05:27:39.379657Z"
    }
   },
   "cell_type": "code",
   "source": [
    "def printer7a(distO,X,y,outliers):\n",
    "    outliers = np.array(outliers)\n",
    "    plt.subplot(1, 3, 1)\n",
    "    plt.scatter(X[:, 0], X[:, 1])\n",
    "    plt.scatter(outliers[:, 0], outliers[:, 1], c=\"red\")\n",
    "    plt.subplot(1, 3, 2)\n",
    "    #plt.hist(self.X[:,0],bins=15)\n",
    "    plt.boxplot(distO, vert=True)\n",
    "    plt.show()\n",
    "    \n",
    "printer7a(arr,X,y,outliers)"
   ],
   "id": "af8d3a2b33f886cb",
   "outputs": [
    {
     "data": {
      "text/plain": [
       "<Figure size 1500x700 with 2 Axes>"
      ],
      "image/png": "[encoded data removed]"
     },
     "metadata": {},
     "output_type": "display_data"
    }
   ],
   "execution_count": 216
  },
  {
   "metadata": {
    "ExecuteTime": {
     "end_time": "2024-09-11T05:27:28.423189Z",
     "start_time": "2024-09-11T05:27:28.420449Z"
    }
   },
   "cell_type": "code",
   "source": "",
   "id": "c5527c367e2c88de",
   "outputs": [],
   "execution_count": null
  },
  {
   "metadata": {
    "ExecuteTime": {
     "end_time": "2024-09-11T05:27:28.578737Z",
     "start_time": "2024-09-11T05:27:28.576062Z"
    }
   },
   "cell_type": "code",
   "source": "",
   "id": "ff14d251640c7a1b",
   "outputs": [],
   "execution_count": null
  },
  {
   "metadata": {
    "ExecuteTime": {
     "end_time": "2024-09-11T05:15:02.584545Z",
     "start_time": "2024-09-11T05:15:02.582275Z"
    }
   },
   "cell_type": "code",
   "source": "",
   "id": "8244568ef82fcf1e",
   "outputs": [],
   "execution_count": null
  }
 ],
 "metadata": {
  "kernelspec": {
   "display_name": "Python 3",
   "language": "python",
   "name": "python3"
  },
  "language_info": {
   "codemirror_mode": {
    "name": "ipython",
    "version": 2
   },
   "file_extension": ".py",
   "mimetype": "text/x-python",
   "name": "python",
   "nbconvert_exporter": "python",
   "pygments_lexer": "ipython2",
   "version": "2.7.6"
  }
 },
 "nbformat": 4,
 "nbformat_minor": 5
}
